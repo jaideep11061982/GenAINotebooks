{
  "nbformat": 4,
  "nbformat_minor": 0,
  "metadata": {
    "colab": {
      "provenance": [],
      "gpuType": "L4",
      "machine_shape": "hm",
      "include_colab_link": true
    },
    "kernelspec": {
      "name": "python3",
      "display_name": "Python 3"
    },
    "language_info": {
      "name": "python"
    },
    "accelerator": "GPU",
    "widgets": {
      "application/vnd.jupyter.widget-state+json": {
        "baa421a430e648658b519f9bfdd29241": {
          "model_module": "@jupyter-widgets/controls",
          "model_name": "HBoxModel",
          "model_module_version": "1.5.0",
          "state": {
            "_dom_classes": [],
            "_model_module": "@jupyter-widgets/controls",
            "_model_module_version": "1.5.0",
            "_model_name": "HBoxModel",
            "_view_count": null,
            "_view_module": "@jupyter-widgets/controls",
            "_view_module_version": "1.5.0",
            "_view_name": "HBoxView",
            "box_style": "",
            "children": [
              "IPY_MODEL_590e1ad0363e4e31aa1cd44ad62c998e",
              "IPY_MODEL_7ae317e3541e458dae8b0fa400d11e26",
              "IPY_MODEL_b155bc4d54034215850e7f771fe69771"
            ],
            "layout": "IPY_MODEL_c1a083780c55430698b4e907658d04d6"
          }
        },
        "590e1ad0363e4e31aa1cd44ad62c998e": {
          "model_module": "@jupyter-widgets/controls",
          "model_name": "HTMLModel",
          "model_module_version": "1.5.0",
          "state": {
            "_dom_classes": [],
            "_model_module": "@jupyter-widgets/controls",
            "_model_module_version": "1.5.0",
            "_model_name": "HTMLModel",
            "_view_count": null,
            "_view_module": "@jupyter-widgets/controls",
            "_view_module_version": "1.5.0",
            "_view_name": "HTMLView",
            "description": "",
            "description_tooltip": null,
            "layout": "IPY_MODEL_b629f1d3b0cd4a228e1f27874a93eeb3",
            "placeholder": "​",
            "style": "IPY_MODEL_5764a54f0c2d4ce2bdce64f04b3beff0",
            "value": "Loading checkpoint shards: 100%"
          }
        },
        "7ae317e3541e458dae8b0fa400d11e26": {
          "model_module": "@jupyter-widgets/controls",
          "model_name": "FloatProgressModel",
          "model_module_version": "1.5.0",
          "state": {
            "_dom_classes": [],
            "_model_module": "@jupyter-widgets/controls",
            "_model_module_version": "1.5.0",
            "_model_name": "FloatProgressModel",
            "_view_count": null,
            "_view_module": "@jupyter-widgets/controls",
            "_view_module_version": "1.5.0",
            "_view_name": "ProgressView",
            "bar_style": "success",
            "description": "",
            "description_tooltip": null,
            "layout": "IPY_MODEL_8bd4b321111940d0a3d45a5af0a9a251",
            "max": 3,
            "min": 0,
            "orientation": "horizontal",
            "style": "IPY_MODEL_9494c1fa43bb464cb731d8266a69778c",
            "value": 3
          }
        },
        "b155bc4d54034215850e7f771fe69771": {
          "model_module": "@jupyter-widgets/controls",
          "model_name": "HTMLModel",
          "model_module_version": "1.5.0",
          "state": {
            "_dom_classes": [],
            "_model_module": "@jupyter-widgets/controls",
            "_model_module_version": "1.5.0",
            "_model_name": "HTMLModel",
            "_view_count": null,
            "_view_module": "@jupyter-widgets/controls",
            "_view_module_version": "1.5.0",
            "_view_name": "HTMLView",
            "description": "",
            "description_tooltip": null,
            "layout": "IPY_MODEL_a65bd1134c3b40bfb9854932f26933e1",
            "placeholder": "​",
            "style": "IPY_MODEL_eac197d8991b459ab18155ce500a1082",
            "value": " 3/3 [00:04&lt;00:00,  1.47s/it]"
          }
        },
        "c1a083780c55430698b4e907658d04d6": {
          "model_module": "@jupyter-widgets/base",
          "model_name": "LayoutModel",
          "model_module_version": "1.2.0",
          "state": {
            "_model_module": "@jupyter-widgets/base",
            "_model_module_version": "1.2.0",
            "_model_name": "LayoutModel",
            "_view_count": null,
            "_view_module": "@jupyter-widgets/base",
            "_view_module_version": "1.2.0",
            "_view_name": "LayoutView",
            "align_content": null,
            "align_items": null,
            "align_self": null,
            "border": null,
            "bottom": null,
            "display": null,
            "flex": null,
            "flex_flow": null,
            "grid_area": null,
            "grid_auto_columns": null,
            "grid_auto_flow": null,
            "grid_auto_rows": null,
            "grid_column": null,
            "grid_gap": null,
            "grid_row": null,
            "grid_template_areas": null,
            "grid_template_columns": null,
            "grid_template_rows": null,
            "height": null,
            "justify_content": null,
            "justify_items": null,
            "left": null,
            "margin": null,
            "max_height": null,
            "max_width": null,
            "min_height": null,
            "min_width": null,
            "object_fit": null,
            "object_position": null,
            "order": null,
            "overflow": null,
            "overflow_x": null,
            "overflow_y": null,
            "padding": null,
            "right": null,
            "top": null,
            "visibility": null,
            "width": null
          }
        },
        "b629f1d3b0cd4a228e1f27874a93eeb3": {
          "model_module": "@jupyter-widgets/base",
          "model_name": "LayoutModel",
          "model_module_version": "1.2.0",
          "state": {
            "_model_module": "@jupyter-widgets/base",
            "_model_module_version": "1.2.0",
            "_model_name": "LayoutModel",
            "_view_count": null,
            "_view_module": "@jupyter-widgets/base",
            "_view_module_version": "1.2.0",
            "_view_name": "LayoutView",
            "align_content": null,
            "align_items": null,
            "align_self": null,
            "border": null,
            "bottom": null,
            "display": null,
            "flex": null,
            "flex_flow": null,
            "grid_area": null,
            "grid_auto_columns": null,
            "grid_auto_flow": null,
            "grid_auto_rows": null,
            "grid_column": null,
            "grid_gap": null,
            "grid_row": null,
            "grid_template_areas": null,
            "grid_template_columns": null,
            "grid_template_rows": null,
            "height": null,
            "justify_content": null,
            "justify_items": null,
            "left": null,
            "margin": null,
            "max_height": null,
            "max_width": null,
            "min_height": null,
            "min_width": null,
            "object_fit": null,
            "object_position": null,
            "order": null,
            "overflow": null,
            "overflow_x": null,
            "overflow_y": null,
            "padding": null,
            "right": null,
            "top": null,
            "visibility": null,
            "width": null
          }
        },
        "5764a54f0c2d4ce2bdce64f04b3beff0": {
          "model_module": "@jupyter-widgets/controls",
          "model_name": "DescriptionStyleModel",
          "model_module_version": "1.5.0",
          "state": {
            "_model_module": "@jupyter-widgets/controls",
            "_model_module_version": "1.5.0",
            "_model_name": "DescriptionStyleModel",
            "_view_count": null,
            "_view_module": "@jupyter-widgets/base",
            "_view_module_version": "1.2.0",
            "_view_name": "StyleView",
            "description_width": ""
          }
        },
        "8bd4b321111940d0a3d45a5af0a9a251": {
          "model_module": "@jupyter-widgets/base",
          "model_name": "LayoutModel",
          "model_module_version": "1.2.0",
          "state": {
            "_model_module": "@jupyter-widgets/base",
            "_model_module_version": "1.2.0",
            "_model_name": "LayoutModel",
            "_view_count": null,
            "_view_module": "@jupyter-widgets/base",
            "_view_module_version": "1.2.0",
            "_view_name": "LayoutView",
            "align_content": null,
            "align_items": null,
            "align_self": null,
            "border": null,
            "bottom": null,
            "display": null,
            "flex": null,
            "flex_flow": null,
            "grid_area": null,
            "grid_auto_columns": null,
            "grid_auto_flow": null,
            "grid_auto_rows": null,
            "grid_column": null,
            "grid_gap": null,
            "grid_row": null,
            "grid_template_areas": null,
            "grid_template_columns": null,
            "grid_template_rows": null,
            "height": null,
            "justify_content": null,
            "justify_items": null,
            "left": null,
            "margin": null,
            "max_height": null,
            "max_width": null,
            "min_height": null,
            "min_width": null,
            "object_fit": null,
            "object_position": null,
            "order": null,
            "overflow": null,
            "overflow_x": null,
            "overflow_y": null,
            "padding": null,
            "right": null,
            "top": null,
            "visibility": null,
            "width": null
          }
        },
        "9494c1fa43bb464cb731d8266a69778c": {
          "model_module": "@jupyter-widgets/controls",
          "model_name": "ProgressStyleModel",
          "model_module_version": "1.5.0",
          "state": {
            "_model_module": "@jupyter-widgets/controls",
            "_model_module_version": "1.5.0",
            "_model_name": "ProgressStyleModel",
            "_view_count": null,
            "_view_module": "@jupyter-widgets/base",
            "_view_module_version": "1.2.0",
            "_view_name": "StyleView",
            "bar_color": null,
            "description_width": ""
          }
        },
        "a65bd1134c3b40bfb9854932f26933e1": {
          "model_module": "@jupyter-widgets/base",
          "model_name": "LayoutModel",
          "model_module_version": "1.2.0",
          "state": {
            "_model_module": "@jupyter-widgets/base",
            "_model_module_version": "1.2.0",
            "_model_name": "LayoutModel",
            "_view_count": null,
            "_view_module": "@jupyter-widgets/base",
            "_view_module_version": "1.2.0",
            "_view_name": "LayoutView",
            "align_content": null,
            "align_items": null,
            "align_self": null,
            "border": null,
            "bottom": null,
            "display": null,
            "flex": null,
            "flex_flow": null,
            "grid_area": null,
            "grid_auto_columns": null,
            "grid_auto_flow": null,
            "grid_auto_rows": null,
            "grid_column": null,
            "grid_gap": null,
            "grid_row": null,
            "grid_template_areas": null,
            "grid_template_columns": null,
            "grid_template_rows": null,
            "height": null,
            "justify_content": null,
            "justify_items": null,
            "left": null,
            "margin": null,
            "max_height": null,
            "max_width": null,
            "min_height": null,
            "min_width": null,
            "object_fit": null,
            "object_position": null,
            "order": null,
            "overflow": null,
            "overflow_x": null,
            "overflow_y": null,
            "padding": null,
            "right": null,
            "top": null,
            "visibility": null,
            "width": null
          }
        },
        "eac197d8991b459ab18155ce500a1082": {
          "model_module": "@jupyter-widgets/controls",
          "model_name": "DescriptionStyleModel",
          "model_module_version": "1.5.0",
          "state": {
            "_model_module": "@jupyter-widgets/controls",
            "_model_module_version": "1.5.0",
            "_model_name": "DescriptionStyleModel",
            "_view_count": null,
            "_view_module": "@jupyter-widgets/base",
            "_view_module_version": "1.2.0",
            "_view_name": "StyleView",
            "description_width": ""
          }
        }
      }
    }
  },
  "cells": [
    {
      "cell_type": "markdown",
      "metadata": {
        "id": "view-in-github",
        "colab_type": "text"
      },
      "source": [
        "<a href=\"https://colab.research.google.com/github/jaideep11061982/GenAINotebooks/blob/main/Xlams_YTUBE_027_PUBLIC_xLAM_Function_Calling.ipynb\" target=\"_parent\"><img src=\"https://colab.research.google.com/assets/colab-badge.svg\" alt=\"Open In Colab\"/></a>"
      ]
    },
    {
      "cell_type": "markdown",
      "source": [
        "xLAM ::\n",
        "\n",
        "https://blog.salesforceairesearch.com/large-action-models/"
      ],
      "metadata": {
        "id": "lADhWCT2TZ7E"
      }
    },
    {
      "cell_type": "code",
      "execution_count": null,
      "metadata": {
        "colab": {
          "base_uri": "https://localhost:8080/"
        },
        "id": "2r_zf7AZFlKj",
        "outputId": "329e532b-5e01-4a81-b328-7df14194aafe"
      },
      "outputs": [
        {
          "output_type": "stream",
          "name": "stdout",
          "text": [
            "Drive already mounted at /content/drive; to attempt to forcibly remount, call drive.mount(\"/content/drive\", force_remount=True).\n"
          ]
        }
      ],
      "source": [
        "import shutil, os, subprocess\n",
        "from google.colab import drive\n",
        "import requests\n",
        "drive.mount('/content/drive')\n",
        "os.chdir('/content/drive/MyDrive/YouTube/')"
      ]
    },
    {
      "cell_type": "code",
      "source": [
        "!python --version"
      ],
      "metadata": {
        "colab": {
          "base_uri": "https://localhost:8080/"
        },
        "id": "q57aF9aPFuY2",
        "outputId": "c3ad9d6f-15fa-4b7e-e9f8-bec8d6b49ab5"
      },
      "execution_count": null,
      "outputs": [
        {
          "output_type": "stream",
          "name": "stdout",
          "text": [
            "Python 3.10.12\n"
          ]
        }
      ]
    },
    {
      "cell_type": "code",
      "source": [
        "! pip install transformers==4.41.0 datasets==2.19.1 tokenizers==0.19.1 flask==2.2.5"
      ],
      "metadata": {
        "colab": {
          "base_uri": "https://localhost:8080/"
        },
        "id": "e56YSIg2S7zq",
        "outputId": "dd32e495-0253-424e-fc85-c3eb9c5729cd"
      },
      "execution_count": null,
      "outputs": [
        {
          "output_type": "stream",
          "name": "stdout",
          "text": [
            "Requirement already satisfied: transformers==4.41.0 in /usr/local/lib/python3.10/dist-packages (4.41.0)\n",
            "Requirement already satisfied: datasets==2.19.1 in /usr/local/lib/python3.10/dist-packages (2.19.1)\n",
            "Requirement already satisfied: tokenizers==0.19.1 in /usr/local/lib/python3.10/dist-packages (0.19.1)\n",
            "Requirement already satisfied: flask==2.2.5 in /usr/local/lib/python3.10/dist-packages (2.2.5)\n",
            "Requirement already satisfied: filelock in /usr/local/lib/python3.10/dist-packages (from transformers==4.41.0) (3.15.4)\n",
            "Requirement already satisfied: huggingface-hub<1.0,>=0.23.0 in /usr/local/lib/python3.10/dist-packages (from transformers==4.41.0) (0.24.6)\n",
            "Requirement already satisfied: numpy>=1.17 in /usr/local/lib/python3.10/dist-packages (from transformers==4.41.0) (1.26.4)\n",
            "Requirement already satisfied: packaging>=20.0 in /usr/local/lib/python3.10/dist-packages (from transformers==4.41.0) (24.1)\n",
            "Requirement already satisfied: pyyaml>=5.1 in /usr/local/lib/python3.10/dist-packages (from transformers==4.41.0) (6.0.2)\n",
            "Requirement already satisfied: regex!=2019.12.17 in /usr/local/lib/python3.10/dist-packages (from transformers==4.41.0) (2024.5.15)\n",
            "Requirement already satisfied: requests in /usr/local/lib/python3.10/dist-packages (from transformers==4.41.0) (2.32.3)\n",
            "Requirement already satisfied: safetensors>=0.4.1 in /usr/local/lib/python3.10/dist-packages (from transformers==4.41.0) (0.4.4)\n",
            "Requirement already satisfied: tqdm>=4.27 in /usr/local/lib/python3.10/dist-packages (from transformers==4.41.0) (4.66.5)\n",
            "Requirement already satisfied: pyarrow>=12.0.0 in /usr/local/lib/python3.10/dist-packages (from datasets==2.19.1) (14.0.2)\n",
            "Requirement already satisfied: pyarrow-hotfix in /usr/local/lib/python3.10/dist-packages (from datasets==2.19.1) (0.6)\n",
            "Requirement already satisfied: dill<0.3.9,>=0.3.0 in /usr/local/lib/python3.10/dist-packages (from datasets==2.19.1) (0.3.8)\n",
            "Requirement already satisfied: pandas in /usr/local/lib/python3.10/dist-packages (from datasets==2.19.1) (2.1.4)\n",
            "Requirement already satisfied: xxhash in /usr/local/lib/python3.10/dist-packages (from datasets==2.19.1) (3.5.0)\n",
            "Requirement already satisfied: multiprocess in /usr/local/lib/python3.10/dist-packages (from datasets==2.19.1) (0.70.16)\n",
            "Requirement already satisfied: fsspec<=2024.3.1,>=2023.1.0 in /usr/local/lib/python3.10/dist-packages (from fsspec[http]<=2024.3.1,>=2023.1.0->datasets==2.19.1) (2024.3.1)\n",
            "Requirement already satisfied: aiohttp in /usr/local/lib/python3.10/dist-packages (from datasets==2.19.1) (3.10.5)\n",
            "Requirement already satisfied: Werkzeug>=2.2.2 in /usr/local/lib/python3.10/dist-packages (from flask==2.2.5) (3.0.4)\n",
            "Requirement already satisfied: Jinja2>=3.0 in /usr/local/lib/python3.10/dist-packages (from flask==2.2.5) (3.1.4)\n",
            "Requirement already satisfied: itsdangerous>=2.0 in /usr/local/lib/python3.10/dist-packages (from flask==2.2.5) (2.2.0)\n",
            "Requirement already satisfied: click>=8.0 in /usr/local/lib/python3.10/dist-packages (from flask==2.2.5) (8.1.7)\n",
            "Requirement already satisfied: aiohappyeyeballs>=2.3.0 in /usr/local/lib/python3.10/dist-packages (from aiohttp->datasets==2.19.1) (2.4.0)\n",
            "Requirement already satisfied: aiosignal>=1.1.2 in /usr/local/lib/python3.10/dist-packages (from aiohttp->datasets==2.19.1) (1.3.1)\n",
            "Requirement already satisfied: attrs>=17.3.0 in /usr/local/lib/python3.10/dist-packages (from aiohttp->datasets==2.19.1) (24.2.0)\n",
            "Requirement already satisfied: frozenlist>=1.1.1 in /usr/local/lib/python3.10/dist-packages (from aiohttp->datasets==2.19.1) (1.4.1)\n",
            "Requirement already satisfied: multidict<7.0,>=4.5 in /usr/local/lib/python3.10/dist-packages (from aiohttp->datasets==2.19.1) (6.0.5)\n",
            "Requirement already satisfied: yarl<2.0,>=1.0 in /usr/local/lib/python3.10/dist-packages (from aiohttp->datasets==2.19.1) (1.9.4)\n",
            "Requirement already satisfied: async-timeout<5.0,>=4.0 in /usr/local/lib/python3.10/dist-packages (from aiohttp->datasets==2.19.1) (4.0.3)\n",
            "Requirement already satisfied: typing-extensions>=3.7.4.3 in /usr/local/lib/python3.10/dist-packages (from huggingface-hub<1.0,>=0.23.0->transformers==4.41.0) (4.12.2)\n",
            "Requirement already satisfied: MarkupSafe>=2.0 in /usr/local/lib/python3.10/dist-packages (from Jinja2>=3.0->flask==2.2.5) (2.1.5)\n",
            "Requirement already satisfied: charset-normalizer<4,>=2 in /usr/local/lib/python3.10/dist-packages (from requests->transformers==4.41.0) (3.3.2)\n",
            "Requirement already satisfied: idna<4,>=2.5 in /usr/local/lib/python3.10/dist-packages (from requests->transformers==4.41.0) (3.8)\n",
            "Requirement already satisfied: urllib3<3,>=1.21.1 in /usr/local/lib/python3.10/dist-packages (from requests->transformers==4.41.0) (2.0.7)\n",
            "Requirement already satisfied: certifi>=2017.4.17 in /usr/local/lib/python3.10/dist-packages (from requests->transformers==4.41.0) (2024.8.30)\n",
            "Requirement already satisfied: python-dateutil>=2.8.2 in /usr/local/lib/python3.10/dist-packages (from pandas->datasets==2.19.1) (2.8.2)\n",
            "Requirement already satisfied: pytz>=2020.1 in /usr/local/lib/python3.10/dist-packages (from pandas->datasets==2.19.1) (2024.1)\n",
            "Requirement already satisfied: tzdata>=2022.1 in /usr/local/lib/python3.10/dist-packages (from pandas->datasets==2.19.1) (2024.1)\n",
            "Requirement already satisfied: six>=1.5 in /usr/local/lib/python3.10/dist-packages (from python-dateutil>=2.8.2->pandas->datasets==2.19.1) (1.16.0)\n"
          ]
        }
      ]
    },
    {
      "cell_type": "code",
      "source": [
        "import json\n",
        "import torch\n",
        "from transformers import AutoModelForCausalLM, AutoTokenizer\n",
        "torch.random.manual_seed(0)\n",
        "model_name = \"Salesforce/xLAM-7b-fc-r\"\n",
        "model = AutoModelForCausalLM.from_pretrained(model_name, device_map=\"auto\", torch_dtype=\"auto\", trust_remote_code=True)\n",
        "tokenizer = AutoTokenizer.from_pretrained(model_name)\n",
        "\n",
        "##### Model and Tokenizer Loaded"
      ],
      "metadata": {
        "colab": {
          "base_uri": "https://localhost:8080/",
          "height": 208,
          "referenced_widgets": [
            "baa421a430e648658b519f9bfdd29241",
            "590e1ad0363e4e31aa1cd44ad62c998e",
            "7ae317e3541e458dae8b0fa400d11e26",
            "b155bc4d54034215850e7f771fe69771",
            "c1a083780c55430698b4e907658d04d6",
            "b629f1d3b0cd4a228e1f27874a93eeb3",
            "5764a54f0c2d4ce2bdce64f04b3beff0",
            "8bd4b321111940d0a3d45a5af0a9a251",
            "9494c1fa43bb464cb731d8266a69778c",
            "a65bd1134c3b40bfb9854932f26933e1",
            "eac197d8991b459ab18155ce500a1082"
          ]
        },
        "id": "Ppf_sW45TbNV",
        "outputId": "52bfd91a-a06c-4583-9cbb-77bd4dcbe5e6"
      },
      "execution_count": null,
      "outputs": [
        {
          "output_type": "stream",
          "name": "stderr",
          "text": [
            "/usr/local/lib/python3.10/dist-packages/huggingface_hub/utils/_token.py:89: UserWarning: \n",
            "The secret `HF_TOKEN` does not exist in your Colab secrets.\n",
            "To authenticate with the Hugging Face Hub, create a token in your settings tab (https://huggingface.co/settings/tokens), set it as secret in your Google Colab and restart your session.\n",
            "You will be able to reuse this secret in all of your notebooks.\n",
            "Please note that authentication is recommended but still optional to access public models or datasets.\n",
            "  warnings.warn(\n"
          ]
        },
        {
          "output_type": "display_data",
          "data": {
            "text/plain": [
              "Loading checkpoint shards:   0%|          | 0/3 [00:00<?, ?it/s]"
            ],
            "application/vnd.jupyter.widget-view+json": {
              "version_major": 2,
              "version_minor": 0,
              "model_id": "baa421a430e648658b519f9bfdd29241"
            }
          },
          "metadata": {}
        },
        {
          "output_type": "stream",
          "name": "stderr",
          "text": [
            "You are using the default legacy behaviour of the <class 'transformers.models.llama.tokenization_llama_fast.LlamaTokenizerFast'>. This is expected, and simply means that the `legacy` (previous) behavior will be used so nothing changes for you. If you want to use the new behaviour, set `legacy=False`. This should only be set if you understand what it means, and thoroughly read the reason why this was added as explained in https://github.com/huggingface/transformers/pull/24565\n",
            "Special tokens have been added in the vocabulary, make sure the associated word embeddings are fine-tuned or trained.\n"
          ]
        }
      ]
    },
    {
      "cell_type": "code",
      "source": [
        "# Please use our provided instruction prompt for best performance\n",
        "task_instruction = \"\"\"\n",
        "You are an expert in composing functions. You are given a question and a set of possible functions.\n",
        "Based on the question, you will need to make one or more function/tool calls to achieve the purpose.\n",
        "If none of the functions can be used, point it out and refuse to answer.\n",
        "If the given question lacks the parameters required by the function, also point it out.\n",
        "\"\"\".strip()\n",
        "\n",
        "format_instruction = \"\"\"\n",
        "The output MUST strictly adhere to the following JSON format, and NO other text MUST be included.\n",
        "The example format is as follows. Please make sure the parameter type is correct. If no function call is needed, please make tool_calls an empty list '[]'.\n",
        "```\n",
        "{\n",
        "    \"tool_calls\": [\n",
        "    {\"name\": \"func_name1\", \"arguments\": {\"argument1\": \"value1\", \"argument2\": \"value2\"}},\n",
        "    ... (more tool calls as required)\n",
        "    ]\n",
        "}\n",
        "```\n",
        "\"\"\".strip()"
      ],
      "metadata": {
        "id": "acxDP_AdTjoC"
      },
      "execution_count": null,
      "outputs": []
    },
    {
      "cell_type": "code",
      "source": [
        "from pprint import pprint\n",
        "get_weather_api = {\n",
        "    \"name\": \"get_weather\",\n",
        "    \"description\": \"Get the current weather for a location\",\n",
        "    \"parameters\": {\n",
        "        \"type\": \"object\",\n",
        "        \"properties\": {\n",
        "            \"location\": {\n",
        "                \"type\": \"string\",\n",
        "                \"description\": \"The city and state, e.g. San Francisco, New York\"\n",
        "            },\n",
        "            \"unit\": {\n",
        "                \"type\": \"string\",\n",
        "                \"enum\": [\"celsius\", \"fahrenheit\"],\n",
        "                \"description\": \"The unit of temperature to return\"\n",
        "            }\n",
        "        },\n",
        "        \"required\": [\"location\"]\n",
        "    }\n",
        "}\n",
        "\n",
        "search_api = {\n",
        "    \"name\": \"search\",\n",
        "    \"description\": \"Search for information on the internet\",\n",
        "    \"parameters\": {\n",
        "        \"type\": \"object\",\n",
        "        \"properties\": {\n",
        "            \"query\": {\n",
        "                \"type\": \"string\",\n",
        "                \"description\": \"The search query, e.g. 'latest news on AI'\"\n",
        "            }\n",
        "        },\n",
        "        \"required\": [\"query\"]\n",
        "    }\n",
        "}\n",
        "\n",
        "openai_format_tools = [get_weather_api, search_api]\n",
        "\n",
        "# Helper function to convert openai format tools to our more concise xLAM format\n",
        "def convert_to_xlam_tool(tools):\n",
        "    ''''''\n",
        "    if isinstance(tools, dict):\n",
        "        return {\n",
        "            \"name\": tools[\"name\"],\n",
        "            \"description\": tools[\"description\"],\n",
        "            \"parameters\": {k: v for k, v in tools[\"parameters\"].get(\"properties\", {}).items()}\n",
        "        }\n",
        "    elif isinstance(tools, list):\n",
        "        return [convert_to_xlam_tool(tool) for tool in tools]\n",
        "    else:\n",
        "        return tools\n",
        "\n",
        "# Helper function to build the input prompt for our model\n",
        "def build_prompt(task_instruction: str, format_instruction: str, tools: list, query: str):\n",
        "    prompt = f\"[BEGIN OF TASK INSTRUCTION]\\n{task_instruction}\\n[END OF TASK INSTRUCTION]\\n\\n\"\n",
        "    prompt += f\"[BEGIN OF AVAILABLE TOOLS]\\n{json.dumps(xlam_format_tools)}\\n[END OF AVAILABLE TOOLS]\\n\\n\"\n",
        "    prompt += f\"[BEGIN OF FORMAT INSTRUCTION]\\n{format_instruction}\\n[END OF FORMAT INSTRUCTION]\\n\\n\"\n",
        "    prompt += f\"[BEGIN OF QUERY]\\n{query}\\n[END OF QUERY]\\n\\n\"\n",
        "    return prompt\n",
        "\n",
        "xlam_format_tools = convert_to_xlam_tool(openai_format_tools)"
      ],
      "metadata": {
        "id": "CwJoI-HpTndD"
      },
      "execution_count": null,
      "outputs": []
    },
    {
      "cell_type": "markdown",
      "source": [
        "01. DEFAULT EXAMPLE"
      ],
      "metadata": {
        "id": "cgmsBjl-SVWS"
      }
    },
    {
      "cell_type": "code",
      "source": [
        "def custom_func_def(query):\n",
        "\n",
        "  content = build_prompt(task_instruction, format_instruction, xlam_format_tools, query)\n",
        "\n",
        "  messages=[\n",
        "      { 'role': 'user', 'content': content}\n",
        "  ]\n",
        "  inputs = tokenizer.apply_chat_template(messages, add_generation_prompt=True, return_tensors=\"pt\").to(model.device)\n",
        "\n",
        "  # tokenizer.eos_token_id is the id of <|EOT|> token\n",
        "  outputs = model.generate(inputs, max_new_tokens=512, do_sample=False, num_return_sequences=1, eos_token_id=tokenizer.eos_token_id)\n",
        "  res = tokenizer.decode(outputs[0][len(inputs[0]):], skip_special_tokens=True)\n",
        "  return(res)"
      ],
      "metadata": {
        "id": "B6VaDhl6Yl2D"
      },
      "execution_count": null,
      "outputs": []
    },
    {
      "cell_type": "code",
      "source": [
        "# Define the input query and available tools\n",
        "\n",
        "\n",
        "query = \"What's the weather like in New York in fahrenheit?\"\n",
        "print(custom_func_def(query))"
      ],
      "metadata": {
        "id": "gWhMY-vMX2Pt",
        "colab": {
          "base_uri": "https://localhost:8080/"
        },
        "outputId": "71d085f3-7045-4946-aab0-8b1b6596306a"
      },
      "execution_count": null,
      "outputs": [
        {
          "output_type": "stream",
          "name": "stderr",
          "text": [
            "The attention mask and the pad token id were not set. As a consequence, you may observe unexpected behavior. Please pass your input's `attention_mask` to obtain reliable results.\n",
            "Setting `pad_token_id` to `eos_token_id`:100015 for open-end generation.\n"
          ]
        },
        {
          "output_type": "stream",
          "name": "stdout",
          "text": [
            "\n",
            "{\"tool_calls\": [{\"name\": \"get_weather\", \"arguments\": {\"location\": \"New York\", \"unit\": \"fahrenheit\"}}]}\n"
          ]
        }
      ]
    },
    {
      "cell_type": "code",
      "source": [
        "query = \"give latest news on startups\"\n",
        "print(custom_func_def(query))\n"
      ],
      "metadata": {
        "colab": {
          "base_uri": "https://localhost:8080/"
        },
        "id": "CM9owO_hT0IH",
        "outputId": "983d654f-7062-4121-d244-53bd14ed2584"
      },
      "execution_count": null,
      "outputs": [
        {
          "output_type": "stream",
          "name": "stderr",
          "text": [
            "The attention mask and the pad token id were not set. As a consequence, you may observe unexpected behavior. Please pass your input's `attention_mask` to obtain reliable results.\n",
            "Setting `pad_token_id` to `eos_token_id`:100015 for open-end generation.\n"
          ]
        },
        {
          "output_type": "stream",
          "name": "stdout",
          "text": [
            "\n",
            "{\"tool_calls\": [{\"name\": \"search\", \"arguments\": {\"query\": \"latest news on startups\"}}]}\n"
          ]
        }
      ]
    },
    {
      "cell_type": "markdown",
      "source": [
        "02. OWN API USING FLASK"
      ],
      "metadata": {
        "id": "YluSROFtSY8d"
      }
    },
    {
      "cell_type": "code",
      "source": [
        "from flask import Flask, request, jsonify\n",
        "import threading\n",
        "app = Flask(__name__)\n",
        "\n",
        "\n",
        "\n",
        "@app.route(\"/\")\n",
        "def main():\n",
        "    return jsonify(status=\"healthy\")\n",
        "\n",
        "@app.route('/customer', methods=['GET'])\n",
        "def get_customer():\n",
        "    customer_id = request.args.get('customer_id')\n",
        "    dummy_data = {\n",
        "    '1001': {'customer_id': '1001', 'name': 'John Doe', 'status': 'active', 'balance': 250.00},\n",
        "    '1002': {'customer_id': '1002', 'name': 'Jane Smith', 'status': 'inactive', 'balance': 0.00},\n",
        "    '1003': {'customer_id': '1003', 'name': 'Alice Brown', 'status': 'active', 'balance': 1250.50},\n",
        "    }\n",
        "\n",
        "    if not customer_id:\n",
        "        return jsonify({\"error\": \"customer_id is required\"}), 400\n",
        "    customer_data = dummy_data.get(customer_id, {\"error\": \"Customer not found\"})\n",
        "    return jsonify(customer_data)\n",
        "\n",
        "@app.route('/send_email', methods=['GET'])\n",
        "def send_email():\n",
        "    email = request.args.get('email')\n",
        "\n",
        "    customer_data = {\"status\":\"sent\"}\n",
        "    return jsonify(customer_data)\n",
        "\n",
        "if __name__ == \"__main__\":\n",
        "    threading.Thread(target=lambda: app.run(debug=True, use_reloader=False)).start()"
      ],
      "metadata": {
        "id": "9FBY49CmScB2"
      },
      "execution_count": null,
      "outputs": []
    },
    {
      "cell_type": "code",
      "source": [
        "! curl http://localhost:5000/"
      ],
      "metadata": {
        "colab": {
          "base_uri": "https://localhost:8080/"
        },
        "id": "4XwrtgoqSpJm",
        "outputId": "26145955-8f9d-457f-bfbf-b696ed756d88"
      },
      "execution_count": null,
      "outputs": [
        {
          "output_type": "stream",
          "name": "stderr",
          "text": [
            "INFO:werkzeug:127.0.0.1 - - [08/Sep/2024 12:33:22] \"GET / HTTP/1.1\" 200 -\n"
          ]
        },
        {
          "output_type": "stream",
          "name": "stdout",
          "text": [
            "{\n",
            "  \"status\": \"healthy\"\n",
            "}\n"
          ]
        }
      ]
    },
    {
      "cell_type": "code",
      "source": [
        "! curl -X GET \"http://localhost:5000/customer?customer_id=1002\""
      ],
      "metadata": {
        "colab": {
          "base_uri": "https://localhost:8080/"
        },
        "id": "8mrHyDUWSpPH",
        "outputId": "34eb37cd-4166-46c2-db81-af1484f50407"
      },
      "execution_count": null,
      "outputs": [
        {
          "output_type": "stream",
          "name": "stderr",
          "text": [
            "INFO:werkzeug:127.0.0.1 - - [08/Sep/2024 12:34:05] \"GET /customer?customer_id=1002 HTTP/1.1\" 200 -\n"
          ]
        },
        {
          "output_type": "stream",
          "name": "stdout",
          "text": [
            "{\n",
            "  \"balance\": 0.0,\n",
            "  \"customer_id\": \"1002\",\n",
            "  \"name\": \"Jane Smith\",\n",
            "  \"status\": \"inactive\"\n",
            "}\n"
          ]
        }
      ]
    },
    {
      "cell_type": "code",
      "source": [
        "! curl -X GET \"http://localhost:5000/send_email?email=abc@abc.com\""
      ],
      "metadata": {
        "colab": {
          "base_uri": "https://localhost:8080/"
        },
        "id": "68fdkvk-SpU6",
        "outputId": "2853a70c-2046-4ea4-cd90-98f28246802a"
      },
      "execution_count": null,
      "outputs": [
        {
          "output_type": "stream",
          "name": "stderr",
          "text": [
            "INFO:werkzeug:127.0.0.1 - - [08/Sep/2024 12:34:19] \"GET /send_email?email=abc@abc.com HTTP/1.1\" 200 -\n"
          ]
        },
        {
          "output_type": "stream",
          "name": "stdout",
          "text": [
            "{\n",
            "  \"status\": \"sent\"\n",
            "}\n"
          ]
        }
      ]
    },
    {
      "cell_type": "markdown",
      "source": [
        "03. CALLS to API"
      ],
      "metadata": {
        "id": "p6uk5JzXSv1P"
      }
    },
    {
      "cell_type": "code",
      "source": [
        "from pprint import pprint\n",
        "customer_api = {\n",
        "    \"name\": \"customer\",\n",
        "    \"description\": \"Get the customer_id as input and return results\",\n",
        "    \"parameters\": {\n",
        "        \"type\": \"object\",\n",
        "        \"properties\": {\n",
        "            \"customer_id\": {\n",
        "                \"type\": \"integer\",\n",
        "                \"description\": \" the customer_id\"\n",
        "            }\n",
        "        },\n",
        "        \"required\": [\"customer_id\"]\n",
        "    }\n",
        "}\n",
        "\n",
        "send_email_api = {\n",
        "    \"name\": \"send_email\",\n",
        "    \"description\": \"Send email to email address given in function\",\n",
        "    \"parameters\": {\n",
        "        \"type\": \"object\",\n",
        "        \"properties\": {\n",
        "            \"email\": {\n",
        "                \"type\": \"string\",\n",
        "                \"description\": \"emailid\"\n",
        "            }\n",
        "        },\n",
        "        \"required\": [\"email\"]\n",
        "    }\n",
        "}\n",
        "\n",
        "openai_format_tools = [customer_api, send_email_api]\n",
        "xlam_format_tools = convert_to_xlam_tool(openai_format_tools)\n",
        "openai_format_tools"
      ],
      "metadata": {
        "colab": {
          "base_uri": "https://localhost:8080/"
        },
        "id": "4JAfVx4cT_Ep",
        "outputId": "b1baed7e-f648-4a11-e2b8-659de00bda6c"
      },
      "execution_count": null,
      "outputs": [
        {
          "output_type": "execute_result",
          "data": {
            "text/plain": [
              "[{'name': 'customer',\n",
              "  'description': 'Get the customer_id as input and return results',\n",
              "  'parameters': {'type': 'object',\n",
              "   'properties': {'customer_id': {'type': 'integer',\n",
              "     'description': ' the customer_id'}},\n",
              "   'required': ['customer_id']}},\n",
              " {'name': 'send_email',\n",
              "  'description': 'Send email to email address given in function',\n",
              "  'parameters': {'type': 'object',\n",
              "   'properties': {'email': {'type': 'string', 'description': 'emailid'}},\n",
              "   'required': ['email']}}]"
            ]
          },
          "metadata": {},
          "execution_count": 14
        }
      ]
    },
    {
      "cell_type": "code",
      "source": [
        "# Define the input query and available tools\n",
        "# Build the input and start the inference\n",
        "\n",
        "\n",
        "\n",
        "query = \"get results for customer id 1001\"\n",
        "print(custom_func_def(query))\n",
        "\n",
        "query = \"send email to address abc@abc.com\"\n",
        "print(custom_func_def(query))\n"
      ],
      "metadata": {
        "colab": {
          "base_uri": "https://localhost:8080/"
        },
        "id": "jpDE6iceUOn5",
        "outputId": "465388d1-dd02-48c5-b31a-a529d8876623"
      },
      "execution_count": null,
      "outputs": [
        {
          "output_type": "stream",
          "name": "stderr",
          "text": [
            "The attention mask and the pad token id were not set. As a consequence, you may observe unexpected behavior. Please pass your input's `attention_mask` to obtain reliable results.\n",
            "Setting `pad_token_id` to `eos_token_id`:100015 for open-end generation.\n",
            "The attention mask and the pad token id were not set. As a consequence, you may observe unexpected behavior. Please pass your input's `attention_mask` to obtain reliable results.\n",
            "Setting `pad_token_id` to `eos_token_id`:100015 for open-end generation.\n"
          ]
        },
        {
          "output_type": "stream",
          "name": "stdout",
          "text": [
            "\n",
            "{\"tool_calls\": [{\"name\": \"customer\", \"arguments\": {\"customer_id\": 1001}}]}\n",
            "\n",
            "{\"tool_calls\": [{\"name\": \"send_email\", \"arguments\": {\"email\": \"abc@abc.com\"}}]}\n"
          ]
        }
      ]
    },
    {
      "cell_type": "code",
      "source": [
        "def base_call_api(query):\n",
        "  base_url = \"http://localhost:5000/\"\n",
        "  json_response_from_model = json.loads(custom_func_def(query))\n",
        "  api_url = json_response_from_model[\"tool_calls\"][0]['name']\n",
        "  api_url = base_url + api_url\n",
        "\n",
        "  # api_url\n",
        "\n",
        "  params = json_response_from_model[\"tool_calls\"][0][\"arguments\"]\n",
        "  response = requests.get(api_url, params=params)\n",
        "  return(response.json())"
      ],
      "metadata": {
        "id": "pFvDd8flaXM-"
      },
      "execution_count": null,
      "outputs": []
    },
    {
      "cell_type": "code",
      "source": [
        "\n",
        "query = \"get results for customer id 1001\"\n",
        "print(base_call_api(query))\n",
        "\n",
        "query = \"send email to address abc@abc.com\"\n",
        "print(base_call_api(query))\n"
      ],
      "metadata": {
        "colab": {
          "base_uri": "https://localhost:8080/"
        },
        "id": "HjzdYPpodD0v",
        "outputId": "d4cd233b-5b18-4dfd-9f2a-1d9f72fd4326"
      },
      "execution_count": null,
      "outputs": [
        {
          "output_type": "stream",
          "name": "stderr",
          "text": [
            "The attention mask and the pad token id were not set. As a consequence, you may observe unexpected behavior. Please pass your input's `attention_mask` to obtain reliable results.\n",
            "Setting `pad_token_id` to `eos_token_id`:100015 for open-end generation.\n",
            "INFO:werkzeug:127.0.0.1 - - [08/Sep/2024 11:46:39] \"GET /customer?customer_id=1001 HTTP/1.1\" 200 -\n",
            "The attention mask and the pad token id were not set. As a consequence, you may observe unexpected behavior. Please pass your input's `attention_mask` to obtain reliable results.\n",
            "Setting `pad_token_id` to `eos_token_id`:100015 for open-end generation.\n"
          ]
        },
        {
          "output_type": "stream",
          "name": "stdout",
          "text": [
            "{'balance': 250.0, 'customer_id': '1001', 'name': 'John Doe', 'status': 'active'}\n"
          ]
        },
        {
          "output_type": "stream",
          "name": "stderr",
          "text": [
            "INFO:werkzeug:127.0.0.1 - - [08/Sep/2024 11:46:41] \"GET /send_email?email=abc@abc.com HTTP/1.1\" 200 -\n"
          ]
        },
        {
          "output_type": "stream",
          "name": "stdout",
          "text": [
            "{'status': 'sent'}\n"
          ]
        }
      ]
    }
  ]
}