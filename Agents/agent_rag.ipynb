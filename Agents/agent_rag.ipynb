{
  "cells": [
    {
      "cell_type": "markdown",
      "metadata": {
        "id": "view-in-github",
        "colab_type": "text"
      },
      "source": [
        "<a href=\"https://colab.research.google.com/github/jaideep11061982/GenAINotebooks/blob/main/Agents/agent_rag.ipynb\" target=\"_parent\"><img src=\"https://colab.research.google.com/assets/colab-badge.svg\" alt=\"Open In Colab\"/></a>"
      ]
    },
    {
      "cell_type": "markdown",
      "metadata": {
        "id": "g6yPypE6B-Ka"
      },
      "source": [
        "# Agentic RAG: turbocharge your RAG with query reformulation and self-query! 🚀\n",
        "_Authored by: [Aymeric Roucher](https://huggingface.co/m-ric)_\n",
        "\n",
        "> This tutorial is advanced. You should have notions from [this other cookbook](advanced_rag) first!\n",
        "\n",
        "> Reminder: Retrieval-Augmented-Generation (RAG) is “using an LLM to answer a user query, but basing the answer on information retrieved from a knowledge base”. It has many advantages over using a vanilla or fine-tuned LLM: to name a few, it allows to ground the answer on true facts and reduce confabulations, it allows to provide the LLM with domain-specific knowledge, and it allows fine-grained control of access to information from the knowledge base.\n",
        "\n",
        "But vanilla RAG has limitations, most importantly these two:\n",
        "- It **performs only one retrieval step**: if the results are bad, the generation in turn will be bad.\n",
        "- __Semantic similarity is computed with the *user query* as a reference__, which might be suboptimal: for instance, the user query will often be a question and the document containing the true answer will be in affirmative voice, so its similarity score will be downgraded compared to other source documents in the interrogative form, leading to a risk of missing the relevant information.\n",
        "\n",
        "But we can alleviate these problems by making a **RAG agent: very simply, an agent armed with a retriever tool!**\n",
        "\n",
        "This agent will: ✅ Formulate the query itself and ✅ Critique to re-retrieve if needed.\n",
        "\n",
        "So it should naively recover some advanced RAG techniques!\n",
        "- Instead of directly using the user query as the reference in semantic search, the agent formulates itself a reference sentence that can be closer to the targeted documents, as in [HyDE](https://huggingface.co/papers/2212.10496)\n",
        "- The agent can the generated snippets and re-retrieve if needed, as in [Self-Query](https://docs.llamaindex.ai/en/stable/examples/evaluation/RetryQuery/)\n",
        "\n",
        "Let's build this system. 🛠️\n",
        "\n",
        "Run the line below to install required dependencies:"
      ]
    },
    {
      "cell_type": "code",
      "execution_count": null,
      "metadata": {
        "id": "E-cgU-JSB-Kg"
      },
      "outputs": [],
      "source": [
        "!pip install pandas langchain langchain-community sentence-transformers faiss-cpu \"transformers[agents]\" --upgrade -q"
      ]
    },
    {
      "cell_type": "markdown",
      "metadata": {
        "id": "2JCeqwrwB-Ki"
      },
      "source": [
        "Let's login in order to call the HF Inference API:"
      ]
    },
    {
      "cell_type": "code",
      "execution_count": null,
      "metadata": {
        "id": "4KyG4ExjB-Kj"
      },
      "outputs": [],
      "source": [
        "from huggingface_hub import notebook_login\n",
        "\n",
        "notebook_login()"
      ]
    },
    {
      "cell_type": "markdown",
      "metadata": {
        "id": "YGJAW7zWB-Kj"
      },
      "source": [
        "We first load a knowledge base on which we want to perform RAG: this dataset is a compilation of the documentation pages for many `huggingface` packages, stored as markdown."
      ]
    },
    {
      "cell_type": "code",
      "execution_count": null,
      "metadata": {
        "id": "mPWCsUIAB-Kk"
      },
      "outputs": [],
      "source": [
        "import datasets\n",
        "\n",
        "knowledge_base = datasets.load_dataset(\"m-ric/huggingface_doc\", split=\"train\")"
      ]
    },
    {
      "cell_type": "markdown",
      "metadata": {
        "id": "YouIAU_fB-Kk"
      },
      "source": [
        "Now we prepare the knowledge base by processing the dataset and storing it into a vector database to be used by the retriever.\n",
        "\n",
        "We use [LangChain](https://python.langchain.com/) for its excellent vector database utilities.\n",
        "For the embedding model, we use [thenlper/gte-small](https://huggingface.co/thenlper/gte-small) since it performed well in our `RAG_evaluation` cookbook."
      ]
    },
    {
      "cell_type": "code",
      "execution_count": null,
      "metadata": {
        "id": "3Ej5eEPQB-Kl"
      },
      "outputs": [],
      "source": [
        "from tqdm import tqdm\n",
        "from transformers import AutoTokenizer\n",
        "from langchain.docstore.document import Document\n",
        "from langchain.text_splitter import RecursiveCharacterTextSplitter\n",
        "from langchain.vectorstores import FAISS\n",
        "from langchain_community.embeddings import HuggingFaceEmbeddings\n",
        "from langchain_community.vectorstores.utils import DistanceStrategy\n",
        "\n",
        "source_docs = [\n",
        "    Document(page_content=doc[\"text\"], metadata={\"source\": doc[\"source\"].split(\"/\")[1]})\n",
        "    for doc in knowledge_base\n",
        "]\n",
        "\n",
        "text_splitter = RecursiveCharacterTextSplitter.from_huggingface_tokenizer(\n",
        "    AutoTokenizer.from_pretrained(\"thenlper/gte-small\"),\n",
        "    chunk_size=200,\n",
        "    chunk_overlap=20,\n",
        "    add_start_index=True,\n",
        "    strip_whitespace=True,\n",
        "    separators=[\"\\n\\n\", \"\\n\", \".\", \" \", \"\"],\n",
        ")\n",
        "\n",
        "# Split docs and keep only unique ones\n",
        "print(\"Splitting documents...\")\n",
        "docs_processed = []\n",
        "unique_texts = {}\n",
        "for doc in tqdm(source_docs):\n",
        "    new_docs = text_splitter.split_documents([doc])\n",
        "    for new_doc in new_docs:\n",
        "        if new_doc.page_content not in unique_texts:\n",
        "            unique_texts[new_doc.page_content] = True\n",
        "            docs_processed.append(new_doc)\n",
        "\n",
        "print(\n",
        "    \"Embedding documents... This should take a few minutes (5 minutes on MacBook with M1 Pro)\"\n",
        ")\n",
        "embedding_model = HuggingFaceEmbeddings(model_name=\"thenlper/gte-small\")\n",
        "vectordb = FAISS.from_documents(\n",
        "    documents=docs_processed,\n",
        "    embedding=embedding_model,\n",
        "    distance_strategy=DistanceStrategy.COSINE,\n",
        ")"
      ]
    },
    {
      "cell_type": "markdown",
      "metadata": {
        "id": "m9SZU7DJB-Km"
      },
      "source": [
        "Now the database is ready: let’s build our agentic RAG system!\n",
        "\n",
        "👉 We only need a `RetrieverTool` that our agent can leverage to retrieve information from the knowledge base.\n",
        "\n",
        "Since we need to add a vectordb as an attribute of the tool, we cannot simply use the [simple tool constructor](https://huggingface.co/docs/transformers/main/en/agents#create-a-new-tool) with a `@tool` decorator: so we will follow the advanced setup highlighted in the [advanced agents documentation](https://huggingface.co/docs/transformers/main/en/agents_advanced#directly-define-a-tool-by-subclassing-tool-and-share-it-to-the-hub)."
      ]
    },
    {
      "cell_type": "code",
      "execution_count": null,
      "metadata": {
        "id": "JHAanEu3B-Km"
      },
      "outputs": [],
      "source": [
        "from transformers.agents import Tool\n",
        "from langchain_core.vectorstores import VectorStore\n",
        "\n",
        "\n",
        "class RetrieverTool(Tool):\n",
        "    name = \"retriever\"\n",
        "    description = \"Using semantic similarity, retrieves some documents from the knowledge base that have the closest embeddings to the input query.\"\n",
        "    inputs = {\n",
        "        \"query\": {\n",
        "            \"type\": \"string\",\n",
        "            \"description\": \"The query to perform. This should be semantically close to your target documents. Use the affirmative form rather than a question.\",\n",
        "        }\n",
        "    }\n",
        "    output_type = \"string\"\n",
        "\n",
        "    def __init__(self, vectordb: VectorStore, **kwargs):\n",
        "        super().__init__(**kwargs)\n",
        "        self.vectordb = vectordb\n",
        "\n",
        "    def forward(self, query: str) -> str:\n",
        "        assert isinstance(query, str), \"Your search query must be a string\"\n",
        "\n",
        "        docs = self.vectordb.similarity_search(\n",
        "            query,\n",
        "            k=7,\n",
        "        )\n",
        "\n",
        "        return \"\\nRetrieved documents:\\n\" + \"\".join(\n",
        "            [\n",
        "                f\"===== Document {str(i)} =====\\n\" + doc.page_content\n",
        "                for i, doc in enumerate(docs)\n",
        "            ]\n",
        "        )"
      ]
    },
    {
      "cell_type": "markdown",
      "metadata": {
        "id": "zcU4WkAcB-Kn"
      },
      "source": [
        "Now it’s straightforward to create an agent that leverages this tool!\n",
        "\n",
        "The agent will need these arguments upon initialization:\n",
        "- *`tools`*: a list of tools that the agent will be able to call.\n",
        "- *`llm_engine`*: the LLM that powers the agent.\n",
        "\n",
        "Our `llm_engine` must be a callable that takes as input a list of [messages](https://huggingface.co/docs/transformers/main/chat_templating) and returns text. It also needs to accept a `stop_sequences` argument that indicates when to stop its generation. For convenience, we directly use the `HfEngine` class provided in the package to get a LLM engine that calls our [Inference API](https://huggingface.co/docs/api-inference/en/index).\n",
        "\n",
        "And we use [meta-llama/Llama-3.1-70B-Instruct](https://huggingface.co/meta-llama/Llama-3.1-70B-Instruct) as the llm engine because:\n",
        "- It has a long 128k context, which is helpful for processing long source documents\n",
        "- It is served for free at all times on HF's Inference API!\n",
        "\n",
        "_Note:_ The Inference API hosts models based on various criteria, and deployed models may be updated or replaced without prior notice. Learn more about it [here](https://huggingface.co/docs/api-inference/supported-models)."
      ]
    },
    {
      "cell_type": "code",
      "execution_count": null,
      "metadata": {
        "id": "rTdd1w4vB-Ko"
      },
      "outputs": [],
      "source": [
        "from transformers.agents import HfApiEngine, ReactJsonAgent\n",
        "\n",
        "llm_engine = HfApiEngine(\"Qwen/Qwen2.5-72B-Instruct\")\n",
        "\n",
        "retriever_tool = RetrieverTool(vectordb)\n",
        "agent = ReactJsonAgent(\n",
        "    tools=[retriever_tool], llm_engine=llm_engine, max_iterations=4, verbose=2\n",
        ")"
      ]
    },
    {
      "cell_type": "markdown",
      "metadata": {
        "id": "Mx92O_OBB-Ko"
      },
      "source": [
        "Since we initialized the agent as a `ReactJsonAgent`, it has been automatically given a default system prompt that tells the LLM engine to process step-by-step and generate tool calls as JSON blobs (you could replace this prompt template with your own as needed).\n",
        "\n",
        "Then when its `.run()` method is launched, the agent takes care of calling the LLM engine, parsing the tool call JSON blobs and executing these tool calls, all in a loop that ends only when the final answer is provided."
      ]
    },
    {
      "cell_type": "code",
      "execution_count": null,
      "metadata": {
        "id": "_zpYtRW_B-Ko",
        "outputId": "9f848609-bfc0-4beb-da74-bb5e8fccc9ef"
      },
      "outputs": [
        {
          "name": "stderr",
          "output_type": "stream",
          "text": [
            "\u001b[32;20;1m======== New task ========\u001b[0m\n",
            "\u001b[37;1mHow can I push a model to the Hub?\u001b[0m\n",
            "\u001b[38;20mSystem prompt is as follows:\u001b[0m\n",
            "\u001b[38;20mYou are an expert assistant who can solve any task using JSON tool calls. You will be given a task to solve as best you can.\n",
            "To do so, you have been given access to the following tools: 'retriever', 'final_answer'\n",
            "The way you use the tools is by specifying a json blob, ending with '<end_action>'.\n",
            "Specifically, this json should have an `action` key (name of the tool to use) and an `action_input` key (input to the tool).\n",
            "\n",
            "The $ACTION_JSON_BLOB should only contain a SINGLE action, do NOT return a list of multiple actions. It should be formatted in json. Do not try to escape special characters. Here is the template of a valid $ACTION_JSON_BLOB:\n",
            "{\n",
            "  \"action\": $TOOL_NAME,\n",
            "  \"action_input\": $INPUT\n",
            "}<end_action>\n",
            "\n",
            "Make sure to have the $INPUT as a dictionary in the right format for the tool you are using, and do not put variable names as input if you can find the right values.\n",
            "\n",
            "You should ALWAYS use the following format:\n",
            "\n",
            "Thought: you should always think about one action to take. Then use the action as follows:\n",
            "Action:\n",
            "$ACTION_JSON_BLOB\n",
            "Observation: the result of the action\n",
            "... (this Thought/Action/Observation can repeat N times, you should take several steps when needed. The $ACTION_JSON_BLOB must only use a SINGLE action at a time.)\n",
            "\n",
            "You can use the result of the previous action as input for the next action.\n",
            "The observation will always be a string: it can represent a file, like \"image_1.jpg\".\n",
            "Then you can use it as input for the next action. You can do it for instance as follows:\n",
            "\n",
            "Observation: \"image_1.jpg\"\n",
            "\n",
            "Thought: I need to transform the image that I received in the previous observation to make it green.\n",
            "Action:\n",
            "{\n",
            "  \"action\": \"image_transformer\",\n",
            "  \"action_input\": {\"image\": \"image_1.jpg\"}\n",
            "}<end_action>\n",
            "\n",
            "To provide the final answer to the task, use an action blob with \"action\": \"final_answer\" tool. It is the only way to complete the task, else you will be stuck on a loop. So your final output should look like this:\n",
            "Action:\n",
            "{\n",
            "  \"action\": \"final_answer\",\n",
            "  \"action_input\": {\"answer\": \"insert your final answer here\"}\n",
            "}<end_action>\n",
            "\n",
            "\n",
            "Here are a few examples using notional tools:\n",
            "---\n",
            "Task: \"Generate an image of the oldest person in this document.\"\n",
            "\n",
            "Thought: I will proceed step by step and use the following tools: `document_qa` to find the oldest person in the document, then `image_generator` to generate an image according to the answer.\n",
            "Action:\n",
            "{\n",
            "  \"action\": \"document_qa\",\n",
            "  \"action_input\": {\"document\": \"document.pdf\", \"question\": \"Who is the oldest person mentioned?\"}\n",
            "}<end_action>\n",
            "Observation: \"The oldest person in the document is John Doe, a 55 year old lumberjack living in Newfoundland.\"\n",
            "\n",
            "\n",
            "Thought: I will now generate an image showcasing the oldest person.\n",
            "Action:\n",
            "{\n",
            "  \"action\": \"image_generator\",\n",
            "  \"action_input\": {\"prompt\": \"A portrait of John Doe, a 55-year-old man living in Canada.\"}\n",
            "}<end_action>\n",
            "Observation: \"image.png\"\n",
            "\n",
            "Thought: I will now return the generated image.\n",
            "Action:\n",
            "{\n",
            "  \"action\": \"final_answer\",\n",
            "  \"action_input\": \"image.png\"\n",
            "}<end_action>\n",
            "\n",
            "---\n",
            "Task: \"What is the result of the following operation: 5 + 3 + 1294.678?\"\n",
            "\n",
            "Thought: I will use python code evaluator to compute the result of the operation and then return the final answer using the `final_answer` tool\n",
            "Action:\n",
            "{\n",
            "    \"action\": \"python_interpreter\",\n",
            "    \"action_input\": {\"code\": \"5 + 3 + 1294.678\"}\n",
            "}<end_action>\n",
            "Observation: 1302.678\n",
            "\n",
            "Thought: Now that I know the result, I will now return it.\n",
            "Action:\n",
            "{\n",
            "  \"action\": \"final_answer\",\n",
            "  \"action_input\": \"1302.678\"\n",
            "}<end_action>\n",
            "\n",
            "---\n",
            "Task: \"Which city has the highest population , Guangzhou or Shanghai?\"\n",
            "\n",
            "Thought: I need to get the populations for both cities and compare them: I will use the tool `search` to get the population of both cities.\n",
            "Action:\n",
            "{\n",
            "    \"action\": \"search\",\n",
            "    \"action_input\": \"Population Guangzhou\"\n",
            "}<end_action>\n",
            "Observation: ['Guangzhou has a population of 15 million inhabitants as of 2021.']\n",
            "\n",
            "\n",
            "Thought: Now let's get the population of Shanghai using the tool 'search'.\n",
            "Action:\n",
            "{\n",
            "    \"action\": \"search\",\n",
            "    \"action_input\": \"Population Shanghai\"\n",
            "}\n",
            "Observation: '26 million (2019)'\n",
            "\n",
            "Thought: Now I know that Shanghai has a larger population. Let's return the result.\n",
            "Action:\n",
            "{\n",
            "  \"action\": \"final_answer\",\n",
            "  \"action_input\": \"Shanghai\"\n",
            "}<end_action>\n",
            "\n",
            "\n",
            "Above example were using notional tools that might not exist for you. You only have acces to those tools:\n",
            "\n",
            "- retriever: Using semantic similarity, retrieves some documents from the knowledge base that have the closest embeddings to the input query.\n",
            "    Takes inputs: {'query': {'type': 'string', 'description': 'The query to perform. This should be semantically close to your target documents. Use the affirmative form rather than a question.'}}\n",
            "    Returns an output of type: string\n",
            "\n",
            "- final_answer: Provides a final answer to the given problem.\n",
            "    Takes inputs: {'answer': {'type': 'any', 'description': 'The final answer to the problem'}}\n",
            "    Returns an output of type: any\n",
            "\n",
            "Here are the rules you should always follow to solve your task:\n",
            "1. ALWAYS provide a 'Thought:' sequence, and an 'Action:' sequence that ends with <end_action>, else you will fail.\n",
            "2. Always use the right arguments for the tools. Never use variable names in the 'action_input' field, use the value instead.\n",
            "3. Call a tool only when needed: do not call the search agent if you do not need information, try to solve the task yourself.\n",
            "4. Never re-do a tool call that you previously did with the exact same parameters.\n",
            "\n",
            "Now Begin! If you solve the task correctly, you will receive a reward of $1,000,000.\n",
            "\u001b[0m\n",
            "\u001b[38;20m===== New step =====\u001b[0m\n",
            "===== Calling LLM with this last message: =====\n",
            "{'role': <MessageRole.USER: 'user'>, 'content': 'Task: How can I push a model to the Hub?'}\n",
            "\u001b[38;20m===== Output message of the LLM: =====\u001b[0m\n",
            "\u001b[38;20mThought: To find out how to push a model to the Hub, I need to search the knowledge base for relevant information using the 'retriever' tool.\n",
            "Action:\n",
            "{\n",
            "  \"action\": \"retriever\",\n",
            "  \"action_input\": {\"query\": \"push a model to the Hub\"}\n",
            "}\u001b[0m\n",
            "\u001b[38;20m===== Extracting action =====\u001b[0m\n",
            "\u001b[33;1m=== Agent thoughts:\u001b[0m\n",
            "\u001b[0mThought: To find out how to push a model to the Hub, I need to search the knowledge base for relevant information using the 'retriever' tool.\u001b[0m\n",
            "\u001b[33;1m>>> Calling tool: 'retriever' with arguments: {'query': 'push a model to the Hub'}\u001b[0m\n",
            "Retrieved documents:\n",
            "===== Document 0 =====\n",
            "# Step 7. Push everything to the Hub\n",
            "    api.upload_folder(\n",
            "        repo_id=repo_id,\n",
            "        folder_path=repo_local_path,\n",
            "        path_in_repo=\".\",\n",
            "    )\n",
            "\n",
            "    print(\"Your model is pushed to the Hub. You can view your model here: \", repo_url)\n",
            "```\n",
            "\n",
            "### .\n",
            "\n",
            "By using `push_to_hub` **you evaluate, record a replay, generate a model card of your agent and push it to the Hub**.===== Document 1 =====\n",
            "```py\n",
            ">>> trainer.push_to_hub()\n",
            "```\n",
            "</pt>\n",
            "<tf>\n",
            "Share a model to the Hub with [`PushToHubCallback`]. In the [`PushToHubCallback`] function, add:\n",
            "\n",
            "- An output directory for your model.\n",
            "- A tokenizer.\n",
            "- The `hub_model_id`, which is your Hub username and model name.\n",
            "\n",
            "```py\n",
            ">>> from transformers import PushToHubCallback\n",
            "\n",
            ">>> push_to_hub_callback = PushToHubCallback(\n",
            "...     output_dir=\"./your_model_save_path\", tokenizer=tokenizer, hub_model_id=\"your-username/my-awesome-model\"\n",
            "... )\n",
            "```===== Document 2 =====\n",
            "Let's pretend we've now fine-tuned the model. The next step would be to push it to the Hub! We can do this with the `timm.models.hub.push_to_hf_hub` function.\n",
            "\n",
            "```py\n",
            ">>> model_cfg = dict(labels=['a', 'b', 'c', 'd'])\n",
            ">>> timm.models.hub.push_to_hf_hub(model, 'resnet18-random', model_config=model_cfg)\n",
            "```\n",
            "\n",
            "Running the above would push the model to `<your-username>/resnet18-random` on the Hub. You can now share this model with your friends, or use it in your own code!\n",
            "\n",
            "## Loading a Model===== Document 3 =====\n",
            "processor.push_to_hub(hub_model_id)\n",
            "trainer.push_to_hub(**kwargs)\n",
            "```\n",
            "\n",
            "# 4. Inference\n",
            "\n",
            "Now comes the exciting part, using our fine-tuned model! In this section, we'll show how you can load your model from the hub and use it for inference.===== Document 4 =====\n",
            "Finally, if you want, you can push your model up to the hub. Here, we'll push it up if you specified `push_to_hub=True` in the training configuration. Note that in order to push to hub, you'll have to have git-lfs installed and be logged into your Hugging Face account (which can be done via `huggingface-cli login`).\n",
            "\n",
            "```python\n",
            "kwargs = {\n",
            "    \"finetuned_from\": model.config._name_or_path,\n",
            "    \"tasks\": \"image-classification\",\n",
            "    \"dataset\": 'beans',\n",
            "    \"tags\": ['image-classification'],\n",
            "}===== Document 5 =====\n",
            "--push_to_hub\n",
            "```===== Document 6 =====\n",
            ". The second way to upload a model, though, is to call model.push_to_hub(). So this is more of a once-off method - it's not called regularly during training. You can just call this manually whenever you want to upload a model to the hub. So we recommend running this after the end of training, just to make sure that you have a commit message just to guarantee that this was the final version of the model at the end of training. And it just makes sure that you're working with the definitive end-of-training model and not accidentally using a model that's from a checkpoint somewhere along the way\n",
            "\u001b[38;20m===== New step =====\u001b[0m\n",
            "===== Calling LLM with this last message: =====\n",
            "{'role': <MessageRole.TOOL_RESPONSE: 'tool-response'>, 'content': '[OUTPUT OF STEP 0] -> Observation:\\nRetrieved documents:\\n===== Document 0 =====\\n# Step 7. Push everything to the Hub\\n    api.upload_folder(\\n        repo_id=repo_id,\\n        folder_path=repo_local_path,\\n        path_in_repo=\".\",\\n    )\\n\\n    print(\"Your model is pushed to the Hub. You can view your model here: \", repo_url)\\n```\\n\\n### .\\n\\nBy using `push_to_hub` **you evaluate, record a replay, generate a model card of your agent and push it to the Hub**.===== Document 1 =====\\n```py\\n>>> trainer.push_to_hub()\\n```\\n</pt>\\n<tf>\\nShare a model to the Hub with [`PushToHubCallback`]. In the [`PushToHubCallback`] function, add:\\n\\n- An output directory for your model.\\n- A tokenizer.\\n- The `hub_model_id`, which is your Hub username and model name.\\n\\n```py\\n>>> from transformers import PushToHubCallback\\n\\n>>> push_to_hub_callback = PushToHubCallback(\\n...     output_dir=\"./your_model_save_path\", tokenizer=tokenizer, hub_model_id=\"your-username/my-awesome-model\"\\n... )\\n```===== Document 2 =====\\nLet\\'s pretend we\\'ve now fine-tuned the model. The next step would be to push it to the Hub! We can do this with the `timm.models.hub.push_to_hf_hub` function.\\n\\n```py\\n>>> model_cfg = dict(labels=[\\'a\\', \\'b\\', \\'c\\', \\'d\\'])\\n>>> timm.models.hub.push_to_hf_hub(model, \\'resnet18-random\\', model_config=model_cfg)\\n```\\n\\nRunning the above would push the model to `<your-username>/resnet18-random` on the Hub. You can now share this model with your friends, or use it in your own code!\\n\\n## Loading a Model===== Document 3 =====\\nprocessor.push_to_hub(hub_model_id)\\ntrainer.push_to_hub(**kwargs)\\n```\\n\\n# 4. Inference\\n\\nNow comes the exciting part, using our fine-tuned model! In this section, we\\'ll show how you can load your model from the hub and use it for inference.===== Document 4 =====\\nFinally, if you want, you can push your model up to the hub. Here, we\\'ll push it up if you specified `push_to_hub=True` in the training configuration. Note that in order to push to hub, you\\'ll have to have git-lfs installed and be logged into your Hugging Face account (which can be done via `huggingface-cli login`).\\n\\n```python\\nkwargs = {\\n    \"finetuned_from\": model.config._name_or_path,\\n    \"tasks\": \"image-classification\",\\n    \"dataset\": \\'beans\\',\\n    \"tags\": [\\'image-classification\\'],\\n}===== Document 5 =====\\n--push_to_hub\\n```===== Document 6 =====\\n. The second way to upload a model, though, is to call model.push_to_hub(). So this is more of a once-off method - it\\'s not called regularly during training. You can just call this manually whenever you want to upload a model to the hub. So we recommend running this after the end of training, just to make sure that you have a commit message just to guarantee that this was the final version of the model at the end of training. And it just makes sure that you\\'re working with the definitive end-of-training model and not accidentally using a model that\\'s from a checkpoint somewhere along the way'}\n",
            "\u001b[38;20m===== Output message of the LLM: =====\u001b[0m\n",
            "\u001b[38;20mThought: I retrieved information on how to push a model to the Hub. Now, I will gather the main points and return the final answer using the `final_answer` tool.\n",
            "Action:\n",
            "{\n",
            "  \"action\": \"final_answer\",\n",
            "  \"action_input\": {\"answer\": \"There are several ways to push a model to the Hub:\\n1. Using `trainer.push_to_hub()` method.\\n2. Using `model.push_to_hub()` method, which is a once-off approach after training.\\n3. Using `timm.models.hub.push_to_hf_hub` function for specific frameworks.\\n4. Using `api.upload_folder` with `repo_id` and `folder_path` to upload the entire folder.\\n5. Setting `--push_to_hub` flag in the training configuration.\\nTo use these methods, ensure you have `git-lfs` installed and are logged into your Hugging Face account using `huggingface-cli login`.\"}\n",
            "}\u001b[0m\n",
            "\u001b[38;20m===== Extracting action =====\u001b[0m\n",
            "\u001b[33;1m=== Agent thoughts:\u001b[0m\n",
            "\u001b[0mThought: I retrieved information on how to push a model to the Hub. Now, I will gather the main points and return the final answer using the `final_answer` tool.\u001b[0m\n",
            "\u001b[33;1m>>> Calling tool: 'final_answer' with arguments: {'answer': 'There are several ways to push a model to the Hub:\\n1. Using `trainer.push_to_hub()` method.\\n2. Using `model.push_to_hub()` method, which is a once-off approach after training.\\n3. Using `timm.models.hub.push_to_hf_hub` function for specific frameworks.\\n4. Using `api.upload_folder` with `repo_id` and `folder_path` to upload the entire folder.\\n5. Setting `--push_to_hub` flag in the training configuration.\\nTo use these methods, ensure you have `git-lfs` installed and are logged into your Hugging Face account using `huggingface-cli login`.'}\u001b[0m\n"
          ]
        },
        {
          "name": "stdout",
          "output_type": "stream",
          "text": [
            "Final output:\n",
            "There are several ways to push a model to the Hub:\n",
            "1. Using `trainer.push_to_hub()` method.\n",
            "2. Using `model.push_to_hub()` method, which is a once-off approach after training.\n",
            "3. Using `timm.models.hub.push_to_hf_hub` function for specific frameworks.\n",
            "4. Using `api.upload_folder` with `repo_id` and `folder_path` to upload the entire folder.\n",
            "5. Setting `--push_to_hub` flag in the training configuration.\n",
            "To use these methods, ensure you have `git-lfs` installed and are logged into your Hugging Face account using `huggingface-cli login`.\n"
          ]
        }
      ],
      "source": [
        "agent_output = agent.run(\"How can I push a model to the Hub?\")\n",
        "\n",
        "print(\"Final output:\")\n",
        "print(agent_output)"
      ]
    },
    {
      "cell_type": "markdown",
      "metadata": {
        "id": "wWowE1q6B-Kp"
      },
      "source": [
        "## Agentic RAG vs. standard RAG\n",
        "\n",
        "Does the agent setup make a better RAG system? Well, let's compare it to a standard RAG system using LLM Judge!\n",
        "\n",
        "We will use [meta-llama/Meta-Llama-3-70B-Instruct](https://huggingface.co/meta-llama/Meta-Llama-3-70B-Instruct) for evaluation since it's one of the strongest OS models we tested for LLM judge use cases."
      ]
    },
    {
      "cell_type": "code",
      "execution_count": null,
      "metadata": {
        "id": "TuhRioX7B-Kq"
      },
      "outputs": [],
      "source": [
        "eval_dataset = datasets.load_dataset(\"m-ric/huggingface_doc_qa_eval\", split=\"train\")"
      ]
    },
    {
      "cell_type": "markdown",
      "metadata": {
        "id": "EMMcRdLqB-Kq"
      },
      "source": [
        "Before running the test let's make the agent less verbose."
      ]
    },
    {
      "cell_type": "code",
      "execution_count": null,
      "metadata": {
        "id": "j_4orurRB-Kq"
      },
      "outputs": [],
      "source": [
        "import logging\n",
        "\n",
        "agent.logger.setLevel(logging.WARNING) # Let's reduce the agent's verbosity level\n",
        "\n",
        "eval_dataset = datasets.load_dataset(\"m-ric/huggingface_doc_qa_eval\", split=\"train\")"
      ]
    },
    {
      "cell_type": "code",
      "execution_count": null,
      "metadata": {
        "id": "n2j3tFESB-Kr"
      },
      "outputs": [],
      "source": [
        "outputs_agentic_rag = []\n",
        "\n",
        "for example in tqdm(eval_dataset):\n",
        "    question = example[\"question\"]\n",
        "\n",
        "    enhanced_question = f\"\"\"Using the information contained in your knowledge base, which you can access with the 'retriever' tool,\n",
        "give a comprehensive answer to the question below.\n",
        "Respond only to the question asked, response should be concise and relevant to the question.\n",
        "If you cannot find information, do not give up and try calling your retriever again with different arguments!\n",
        "Make sure to have covered the question completely by calling the retriever tool several times with semantically different queries.\n",
        "Your queries should not be questions but affirmative form sentences: e.g. rather than \"How do I load a model from the Hub in bf16?\", query should be \"load a model from the Hub bf16 weights\".\n",
        "\n",
        "Question:\n",
        "{question}\"\"\"\n",
        "    answer = agent.run(enhanced_question)\n",
        "    print(\"=======================================================\")\n",
        "    print(f\"Question: {question}\")\n",
        "    print(f\"Answer: {answer}\")\n",
        "    print(f'True answer: {example[\"answer\"]}')\n",
        "\n",
        "    results_agentic = {\n",
        "        \"question\": question,\n",
        "        \"true_answer\": example[\"answer\"],\n",
        "        \"source_doc\": example[\"source_doc\"],\n",
        "        \"generated_answer\": answer,\n",
        "    }\n",
        "    outputs_agentic_rag.append(results_agentic)"
      ]
    },
    {
      "cell_type": "code",
      "execution_count": null,
      "metadata": {
        "id": "45-H0nKNB-Kr"
      },
      "outputs": [],
      "source": [
        "from huggingface_hub import InferenceClient\n",
        "\n",
        "reader_llm = InferenceClient(\"Qwen/Qwen2.5-72B-Instruct\")\n",
        "\n",
        "outputs_standard_rag = []\n",
        "\n",
        "for example in tqdm(eval_dataset):\n",
        "    question = example[\"question\"]\n",
        "    context = retriever_tool(question)\n",
        "\n",
        "    prompt = f\"\"\"Given the question and supporting documents below, give a comprehensive answer to the question.\n",
        "Respond only to the question asked, response should be concise and relevant to the question.\n",
        "Provide the number of the source document when relevant.\n",
        "If you cannot find information, do not give up and try calling your retriever again with different arguments!\n",
        "\n",
        "Question:\n",
        "{question}\n",
        "\n",
        "{context}\n",
        "\"\"\"\n",
        "    messages = [{\"role\": \"user\", \"content\": prompt}]\n",
        "    answer = reader_llm.chat_completion(messages).choices[0].message.content\n",
        "\n",
        "    print(\"=======================================================\")\n",
        "    print(f\"Question: {question}\")\n",
        "    print(f\"Answer: {answer}\")\n",
        "    print(f'True answer: {example[\"answer\"]}')\n",
        "\n",
        "    results_agentic = {\n",
        "        \"question\": question,\n",
        "        \"true_answer\": example[\"answer\"],\n",
        "        \"source_doc\": example[\"source_doc\"],\n",
        "        \"generated_answer\": answer,\n",
        "    }\n",
        "    outputs_standard_rag.append(results_agentic)"
      ]
    },
    {
      "cell_type": "markdown",
      "metadata": {
        "id": "kI4nQR24B-Kr"
      },
      "source": [
        "The evaluation prompt follows some of the best principles shown in [our llm_judge cookbook](llm_judge): it follows a small integer Likert scale, has clear criteria, and a description for each score."
      ]
    },
    {
      "cell_type": "code",
      "execution_count": null,
      "metadata": {
        "id": "lB0y7Q2GB-Kr"
      },
      "outputs": [],
      "source": [
        "EVALUATION_PROMPT = \"\"\"You are a fair evaluator language model.\n",
        "\n",
        "You will be given an instruction, a response to evaluate, a reference answer that gets a score of 3, and a score rubric representing a evaluation criteria are given.\n",
        "1. Write a detailed feedback that assess the quality of the response strictly based on the given score rubric, not evaluating in general.\n",
        "2. After writing a feedback, write a score that is an integer between 1 and 3. You should refer to the score rubric.\n",
        "3. The output format should look as follows: \\\"Feedback: {{write a feedback for criteria}} [RESULT] {{an integer number between 1 and 3}}\\\"\n",
        "4. Please do not generate any other opening, closing, and explanations. Be sure to include [RESULT] in your output.\n",
        "5. Do not score conciseness: a correct answer that covers the question should receive max score, even if it contains additional useless information.\n",
        "\n",
        "The instruction to evaluate:\n",
        "{instruction}\n",
        "\n",
        "Response to evaluate:\n",
        "{response}\n",
        "\n",
        "Reference Answer (Score 3):\n",
        "{reference_answer}\n",
        "\n",
        "Score Rubrics:\n",
        "[Is the response complete, accurate, and factual based on the reference answer?]\n",
        "Score 1: The response is completely incomplete, inaccurate, and/or not factual.\n",
        "Score 2: The response is somewhat complete, accurate, and/or factual.\n",
        "Score 3: The response is completely complete, accurate, and/or factual.\n",
        "\n",
        "Feedback:\"\"\""
      ]
    },
    {
      "cell_type": "code",
      "execution_count": null,
      "metadata": {
        "id": "6d3qXsERB-Ks"
      },
      "outputs": [],
      "source": [
        "from huggingface_hub import InferenceClient\n",
        "\n",
        "evaluation_client = InferenceClient(\"meta-llama/Llama-3.1-70B-Instruct\")"
      ]
    },
    {
      "cell_type": "code",
      "execution_count": null,
      "metadata": {
        "id": "hFjx_rwzB-Ks"
      },
      "outputs": [],
      "source": [
        "import pandas as pd\n",
        "\n",
        "results = {}\n",
        "for system_type, outputs in [\n",
        "    (\"agentic\", outputs_agentic_rag),\n",
        "    (\"standard\", outputs_standard_rag),\n",
        "]:\n",
        "    for experiment in tqdm(outputs):\n",
        "        eval_prompt = EVALUATION_PROMPT.format(\n",
        "            instruction=experiment[\"question\"],\n",
        "            response=experiment[\"generated_answer\"],\n",
        "            reference_answer=experiment[\"true_answer\"],\n",
        "        )\n",
        "        messages = [\n",
        "            {\"role\": \"system\", \"content\": \"You are a fair evaluator language model.\"},\n",
        "            {\"role\": \"user\", \"content\": eval_prompt},\n",
        "        ]\n",
        "\n",
        "        eval_result = evaluation_client.text_generation(\n",
        "            eval_prompt, max_new_tokens=1000\n",
        "        )\n",
        "        try:\n",
        "            feedback, score = [item.strip() for item in eval_result.split(\"[RESULT]\")]\n",
        "            experiment[\"eval_score_LLM_judge\"] = score\n",
        "            experiment[\"eval_feedback_LLM_judge\"] = feedback\n",
        "        except:\n",
        "            print(f\"Parsing failed - output was: {eval_result}\")\n",
        "\n",
        "    results[system_type] = pd.DataFrame.from_dict(outputs)\n",
        "    results[system_type] = results[system_type].loc[~results[system_type][\"generated_answer\"].str.contains(\"Error\")]"
      ]
    },
    {
      "cell_type": "code",
      "execution_count": null,
      "metadata": {
        "id": "pnwUnvooB-Ks",
        "outputId": "b3e7c07d-b303-4b13-a967-d5c197250f12"
      },
      "outputs": [
        {
          "name": "stdout",
          "output_type": "stream",
          "text": [
            "Average score for agentic RAG: 86.9%\n",
            "Average score for standard RAG: 73.1%\n"
          ]
        }
      ],
      "source": [
        "DEFAULT_SCORE = 2 # Give average score whenever scoring fails\n",
        "def fill_score(x):\n",
        "    try:\n",
        "        return int(x)\n",
        "    except:\n",
        "        return DEFAULT_SCORE\n",
        "\n",
        "for system_type, outputs in [\n",
        "    (\"agentic\", outputs_agentic_rag),\n",
        "    (\"standard\", outputs_standard_rag),\n",
        "]:\n",
        "\n",
        "    results[system_type][\"eval_score_LLM_judge_int\"] = (\n",
        "        results[system_type][\"eval_score_LLM_judge\"].fillna(DEFAULT_SCORE).apply(fill_score)\n",
        "    )\n",
        "    results[system_type][\"eval_score_LLM_judge_int\"] = (results[system_type][\"eval_score_LLM_judge_int\"] - 1) / 2\n",
        "\n",
        "    print(\n",
        "        f\"Average score for {system_type} RAG: {results[system_type]['eval_score_LLM_judge_int'].mean()*100:.1f}%\"\n",
        "    )"
      ]
    },
    {
      "cell_type": "markdown",
      "metadata": {
        "id": "gLvTv2YOB-Kt"
      },
      "source": [
        "**Let us recap: the Agent setup improves scores by 14% compared to a standard RAG!** (from 73.1% to 86.9%)\n",
        "\n",
        "This is a great improvement, with a very simple setup 🚀\n",
        "\n",
        "(For a baseline, using Llama-3-70B without the knowledge base got 36%)"
      ]
    }
  ],
  "metadata": {
    "kernelspec": {
      "display_name": "test2",
      "language": "python",
      "name": "test2"
    },
    "language_info": {
      "codemirror_mode": {
        "name": "ipython",
        "version": 3
      },
      "file_extension": ".py",
      "mimetype": "text/x-python",
      "name": "python",
      "nbconvert_exporter": "python",
      "pygments_lexer": "ipython3",
      "version": "3.12.0"
    },
    "colab": {
      "provenance": [],
      "include_colab_link": true
    }
  },
  "nbformat": 4,
  "nbformat_minor": 0
}