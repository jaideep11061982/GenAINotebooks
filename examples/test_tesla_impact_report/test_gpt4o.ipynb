{
  "cells": [
    {
      "cell_type": "markdown",
      "id": "f20600ce-d57a-446e-b033-3aadeec39c1b",
      "metadata": {
        "id": "f20600ce-d57a-446e-b033-3aadeec39c1b"
      },
      "source": [
        "# LlamaParse with GPT-4o\n",
        "\n",
        "\n",
        "<a href=\"https://colab.research.google.com/github/run-llama/llama_parse/blob/main/examples/test_tesla_impact_report/test_gpt4o.ipynb\" target=\"_parent\"><img src=\"https://colab.research.google.com/assets/colab-badge.svg\" alt=\"Open In Colab\"/></a>\n",
        "\n",
        "GPT-4o is a [fully multimodal model by OpenAI](https://openai.com/index/hello-gpt-4o/) released in May 2024. It matches GPT-4 Turbo performance in text and code, and has significantly improved vision and audio capabilities.\n",
        "\n",
        "The expanded vision/audio capabilities mean that it can be used for document parsing, by treating each page as an image and performing document extraction. We support using GPT-4o natively in LlamaParse for document parsing. The notebook below walks you through an example of using GPT-4o over the Tesla impact report.\n",
        "\n",
        "**NOTE**: The pricing for LlamaParse + gpt4o is an order more expensive than using LlamaParse by default. Currently, every page parsed with gpt4o counts for 10 pages in the LlamaParse usage tracker.\n"
      ]
    },
    {
      "cell_type": "code",
      "execution_count": null,
      "id": "86b173ac-9fce-4813-bdf1-6dd7d93a491d",
      "metadata": {
        "id": "86b173ac-9fce-4813-bdf1-6dd7d93a491d"
      },
      "outputs": [],
      "source": [
        "import nest_asyncio\n",
        "\n",
        "nest_asyncio.apply()"
      ]
    },
    {
      "cell_type": "code",
      "execution_count": null,
      "id": "ecc5eba5-96ce-4db7-bba1-f9ece33e681c",
      "metadata": {
        "id": "ecc5eba5-96ce-4db7-bba1-f9ece33e681c"
      },
      "outputs": [],
      "source": [
        "import os"
      ]
    },
    {
      "cell_type": "code",
      "execution_count": null,
      "id": "b805592b-d1a5-4cd2-b916-348f66ca7941",
      "metadata": {
        "id": "b805592b-d1a5-4cd2-b916-348f66ca7941"
      },
      "outputs": [],
      "source": [
        "os.environ[\"LLAMA_CLOUD_API_KEY\"] = \"<LLAMA_CLOUD_API_KEY>"
      ]
    },
    {
      "cell_type": "markdown",
      "id": "6e73e3c4-9e09-4cba-805f-326c82be812d",
      "metadata": {
        "id": "6e73e3c4-9e09-4cba-805f-326c82be812d"
      },
      "source": [
        "### Use LlamaParse with `gpt4o_mode=True`\n",
        "\n",
        "By turning on gpt4o, we use GPT-4o multimodal capabilities to do document parsing per page instead of the LlamaParse default pipeline.\n",
        "\n",
        "We load a snippet of the [2019 Tesla impact report](https://www.tesla.com/ns_videos/2019-tesla-impact-report.pdf). **NOTE**: The report is 57 pages, but will count for 570 pages in LlamaParse due to GPT-4o usage (which is approximately $1.71 USD).\n",
        "\n",
        "You can optionally choose to provide a `gpt4o_api_key`. If you do this, then we will use your API key to make GPT-4o calls, and your LlamaParse usage will be counted as if `gpt4o_mode` was not turned on (each page will be counted as a page instead of 10 pages)."
      ]
    },
    {
      "cell_type": "code",
      "execution_count": null,
      "id": "aaa2ec5d-f27c-4262-80bf-e57daacff182",
      "metadata": {
        "id": "aaa2ec5d-f27c-4262-80bf-e57daacff182",
        "outputId": "51cec2bb-188f-4e58-e2fd-c134cc165bd8"
      },
      "outputs": [
        {
          "name": "stdout",
          "output_type": "stream",
          "text": [
            "--2024-05-21 00:10:32--  https://www.dropbox.com/scl/fi/vu6w1dsfo5eddydz13ssm/2019-tesla-impact-report-15.pdf?rlkey=ik8lfqbg2p1ervss4qqt3xose&st=70j04z8j&dl=1\n",
            "Resolving www.dropbox.com (www.dropbox.com)... 2620:100:6057:18::a27d:d12, 162.125.13.18\n",
            "Connecting to www.dropbox.com (www.dropbox.com)|2620:100:6057:18::a27d:d12|:443... connected.\n",
            "HTTP request sent, awaiting response... 302 Found\n",
            "Location: https://uc872df1ff4ea2fecd3d024fa97a.dl.dropboxusercontent.com/cd/0/inline/CTTnZs8U4V1GtUCNxoB7INwmLq2yU97Q6QbWS6uVnb_XdHe368GrqF0zLDEKTnpc-x7utwNUUpMvWjLyrujrqNVrbGKTKa6hwHu5BxYPA2zXYrzdAEZyeve274xpHZKFywQ/file?dl=1# [following]\n",
            "--2024-05-21 00:10:33--  https://uc872df1ff4ea2fecd3d024fa97a.dl.dropboxusercontent.com/cd/0/inline/CTTnZs8U4V1GtUCNxoB7INwmLq2yU97Q6QbWS6uVnb_XdHe368GrqF0zLDEKTnpc-x7utwNUUpMvWjLyrujrqNVrbGKTKa6hwHu5BxYPA2zXYrzdAEZyeve274xpHZKFywQ/file?dl=1\n",
            "Resolving uc872df1ff4ea2fecd3d024fa97a.dl.dropboxusercontent.com (uc872df1ff4ea2fecd3d024fa97a.dl.dropboxusercontent.com)... 2620:100:6057:15::a27d:d0f, 162.125.13.15\n",
            "Connecting to uc872df1ff4ea2fecd3d024fa97a.dl.dropboxusercontent.com (uc872df1ff4ea2fecd3d024fa97a.dl.dropboxusercontent.com)|2620:100:6057:15::a27d:d0f|:443... connected.\n",
            "HTTP request sent, awaiting response... 302 Found\n",
            "Location: /cd/0/inline2/CTSaARDHbxvyEEgefshmsHLbuXkgV1Rmr-ItVhk5lPuZXkLlNnZMZWCF9YF5j4t2lLs4VurFW2VI1Q4A6ZFi8D2RXJmUG3wdgJhR6qSaBpwRZxjB_vk8qkJb8h1jRDaL7ATK6XYTHncab_aoPWzB62vrZ9yXUM0Mr-EdCX1k-hMbzXLV2dorA71IuFPY8ICkTemRWaG6VhBd3bV0C5AkMsAqy90w6Kez1ySFO06UkrxLSmkCaKdFgVoLcUVO2PLv4rGv6AuZOF_kqwsHdh82J9DQU4PMMyg-f5ChSGGSCKgmUfTBE2qP1eISP-GXSB91yWwMf-7rxGtM8MpDp-AL5jxYZxhZcmZn1cU8Or_8OOZrxg/file?dl=1 [following]\n",
            "--2024-05-21 00:10:33--  https://uc872df1ff4ea2fecd3d024fa97a.dl.dropboxusercontent.com/cd/0/inline2/CTSaARDHbxvyEEgefshmsHLbuXkgV1Rmr-ItVhk5lPuZXkLlNnZMZWCF9YF5j4t2lLs4VurFW2VI1Q4A6ZFi8D2RXJmUG3wdgJhR6qSaBpwRZxjB_vk8qkJb8h1jRDaL7ATK6XYTHncab_aoPWzB62vrZ9yXUM0Mr-EdCX1k-hMbzXLV2dorA71IuFPY8ICkTemRWaG6VhBd3bV0C5AkMsAqy90w6Kez1ySFO06UkrxLSmkCaKdFgVoLcUVO2PLv4rGv6AuZOF_kqwsHdh82J9DQU4PMMyg-f5ChSGGSCKgmUfTBE2qP1eISP-GXSB91yWwMf-7rxGtM8MpDp-AL5jxYZxhZcmZn1cU8Or_8OOZrxg/file?dl=1\n",
            "Reusing existing connection to [uc872df1ff4ea2fecd3d024fa97a.dl.dropboxusercontent.com]:443.\n",
            "HTTP request sent, awaiting response... 200 OK\n",
            "Length: 26199694 (25M) [application/binary]\n",
            "Saving to: ‘2019-tesla-impact-report-15.pdf’\n",
            "\n",
            "2019-tesla-impact-r 100%[===================>]  24.99M  30.5MB/s    in 0.8s    \n",
            "\n",
            "2024-05-21 00:10:35 (30.5 MB/s) - ‘2019-tesla-impact-report-15.pdf’ saved [26199694/26199694]\n",
            "\n"
          ]
        }
      ],
      "source": [
        "!wget \"https://www.dropbox.com/scl/fi/vu6w1dsfo5eddydz13ssm/2019-tesla-impact-report-15.pdf?rlkey=ik8lfqbg2p1ervss4qqt3xose&st=70j04z8j&dl=1\" -O \"2019-tesla-impact-report-15.pdf\""
      ]
    },
    {
      "cell_type": "code",
      "execution_count": null,
      "id": "f46991c1-031b-461f-b9a6-9237a821f4c8",
      "metadata": {
        "id": "f46991c1-031b-461f-b9a6-9237a821f4c8"
      },
      "outputs": [],
      "source": [
        "from llama_parse import LlamaParse\n",
        "\n",
        "parser_gpt4o = LlamaParse(\n",
        "    result_type=\"markdown\",\n",
        "    # api_key=api_key,\n",
        "    gpt4o_mode=True,\n",
        "    # gpt4o_api_key=\"<gpt4o_api_key>\"\n",
        ")"
      ]
    },
    {
      "cell_type": "code",
      "execution_count": null,
      "id": "1136ba82-074b-489d-9b0a-d609ccbf02b6",
      "metadata": {
        "id": "1136ba82-074b-489d-9b0a-d609ccbf02b6",
        "outputId": "341c7209-3d02-4810-aae4-04b12968e5aa"
      },
      "outputs": [
        {
          "name": "stdout",
          "output_type": "stream",
          "text": [
            "Started parsing the file under job_id 1a934a50-59a9-4bb4-bbb7-ecefff228537\n"
          ]
        }
      ],
      "source": [
        "documents_gpt4o = parser_gpt4o.load_data(\"./2019-tesla-impact-report-15.pdf\")"
      ]
    },
    {
      "cell_type": "code",
      "execution_count": null,
      "id": "9e65c54f-3e4c-4c78-b1e8-a55ebeba1f24",
      "metadata": {
        "id": "9e65c54f-3e4c-4c78-b1e8-a55ebeba1f24",
        "outputId": "4612b667-7ceb-41ba-d849-8193be946348"
      },
      "outputs": [
        {
          "name": "stdout",
          "output_type": "stream",
          "text": [
            "# Impact Report\n",
            "## 2019\n",
            "\n",
            "![Earth and Tesla Car in Space](image-url)\n",
            "\n",
            "TESLA\n",
            "---\n",
            "# Introduction 03\n",
            "\n",
            "# Mission and Tesla Ecosystem 04\n",
            "\n",
            "# Environmental Impact 06\n",
            "- Lifecycle Analysis of Tesla Vehicles versus Average ICE\n",
            "- Battery Recycling\n",
            "- NOx, Particulates and Other Pollutants\n",
            "- Water Used per Vehicle Manufactured\n",
            "- Emissions Credits\n",
            "- Net Energy Impact of Our Products\n",
            "\n",
            "# Product Impact 20\n",
            "- Price Equivalency\n",
            "- Primary Driver\n",
            "- Long Distance Travel\n",
            "- Active Safety\n",
            "- Passive Safety\n",
            "- Tesla Safety Awards\n",
            "- Fire Safety\n",
            "- Cyber Security\n",
            "- Disaster Relief\n",
            "- Resilience of the Grid\n",
            "- Megapack\n",
            "- Solar Roof\n",
            "\n",
            "# Supply Chain 33\n",
            "- Responsible Material Sourcing\n",
            "- Cobalt Sourcing\n",
            "\n",
            "# People and Culture 37\n",
            "- Our Environmental, Health, and Safety Strategy\n",
            "- Safety Improvements\n",
            "- Case Study: Ergonomics and Model Y Design\n",
            "- Rewarding the Individual\n",
            "- Culture of Diversity and Inclusion\n",
            "- Workforce Development\n",
            "- Community Engagement\n",
            "- Employee Mobility and Transportation Programs\n",
            "- Corporate Governance\n",
            "\n",
            "# Appendix 52\n",
            "---\n",
            "# Introduction\n",
            "\n",
            "The very purpose of Tesla’s existence is to accelerate the world’s transition to sustainable energy. In furtherance of this mission, we are excited to publish our second annual Impact Report. Transparency and disclosure are important for our customers, employees, and shareholders, which is why we have expanded the Impact Report’s content this year.\n",
            "\n",
            "While many environmental reports focus on emissions generated by the manufacturing phase of products and future goals for energy consumption, we highlight the totality of the environmental impact of our products today. After all, the vast majority of emissions generated by vehicles today occur in the product-use phase—that is, when consumers are driving their vehicles. We believe that providing information on both sides of the manufacturing and consumer-use equation provides a clearer picture of the environmental impact of Tesla products, and we have done so this year largely through a lifecycle analysis detailed in this report.\n",
            "\n",
            "Tesla aims to continue to increase the proportion of renewable energy usage at our factories in an effort to minimize the carbon footprint for every mile traveled by our products and their components in our supply chain. All of the factories that we built from the ground-up, such as Gigafactory Nevada and Gigafactory Shanghai, and our forthcoming Gigafactories in Berlin and North America, are designed from the beginning to use energy from renewable sources.\n",
            "\n",
            "Making a significant and lasting impact on environmental sustainability is difficult to achieve without securing financial sustainability for the long term. We generated positive Free Cash Flow (operating cash flow less capex) of more than $1 billion for the first time in 2019. We believe the notion that a sustainable future is not economically feasible is no longer valid.\n",
            "---\n",
            "# Mission & Tesla Ecosystem\n",
            "\n",
            "Climate change is reaching alarming levels in large part due to emissions from burning fossil fuels for transportation and electricity generation. In 2016, carbon dioxide (CO2) concentration levels in the atmosphere exceeded the 400 parts per million threshold on a sustained basis - a level that climate scientists believe will have a catastrophic impact on the environment. Worse, annual global CO2 emissions continue to increase and have approximately doubled over the past 50 years to over 43 gigatons in 2019. The world’s current path is unwise and unsustainable.\n",
            "\n",
            "The world cannot reduce CO2 emissions without addressing both energy generation and consumption. And the world cannot address its energy habits without first directly reducing emissions in the transportation and energy sectors. We are focused on creating a complete energy and transportation ecosystem from solar generation and energy storage to all-electric vehicles that produce zero tailpipe emissions.\n",
            "\n",
            "Since the onset of shelter-in-place orders and travel restrictions due to COVID-19, we have seen dramatic increases in air quality across the planet, as well as projections for CO2 emissions to drop in excess of 4% in 2020 compared to pre-COVID-19 levels, according to researchers. Because these improvements in air quality and reductions in CO2 are a result of a global economic disruption and not due to systemic changes in how we produce and consume energy, they are not expected to be sustained absent intervention. However, these changes have shown us the positive impacts of reduced pollution in a very short period of time. At Tesla, we believe that we all have an unprecedented opportunity to learn from this disruption and accelerate the deployment of clean energy solutions as part of a recovery for all economies throughout the world, and we will actively continue to advocate for the realization of these long-term changes.\n",
            "\n",
            "## Global Greenhouse Gas (GHG) Emissions by Economic Sector\n",
            "\n",
            "| Sector                                      | Percentage |\n",
            "|---------------------------------------------|------------|\n",
            "| Electricity & Heat Production*              | 31%        |\n",
            "| Agriculture, Forestry & Other Land Use      | 20%        |\n",
            "| Industry                                    | 18%        |\n",
            "| Transportation*                             | 16%        |\n",
            "| Other Energy                                | 9%         |\n",
            "| Buildings                                   | 6%         |\n",
            "\n",
            "*Tesla-related sectors. Source: World Resources Institute\n",
            "\n",
            "According to the Global Carbon project, when fully tallied, total carbon emissions from 2019 are expected to hit another record high of over 43 gigatons for the year. Energy use through electricity and heat production (31%) and transportation (16%) are significant drivers of these GHG emissions.\n",
            "---\n",
            "# Mission & Tesla Ecosystem\n",
            "\n",
            "To create an entire sustainable energy ecosystem, Tesla also manufactures a unique set of energy products that enable homeowners, businesses and utilities to produce and manage renewable energy generation, storage and consumption. Homeowners can install solar panels or Solar Roof to power their home using 100% renewable energy and then store that energy in Powerwall, which makes electricity available during peak energy-use periods and at night, while also providing power during grid outages. Meanwhile, depending on their particular requirements and the size of the project, utilities and businesses can purchase Megapack – an infinitely scalable energy storage system that provides greater control, efficiency, and reliability across the electric grid – for their energy storage needs.\n",
            "\n",
            "Renewable energy generation and storage are critical components of developing microgrids — an increasingly important means of delivering reliable and sustainable electricity around the world. As the deployment of Tesla’s products continues to accelerate, we can scale the adoption of renewable energy, cost-effectively modernize our aging infrastructure (while becoming less reliant on it), and improve the resilience of the electric grid to benefit everyone.\n",
            "---\n",
            "# Environmental Impact\n",
            "---\n",
            "# Introduction\n",
            "\n",
            "In this section of the Impact Report, we will go through the details and calculations of the lifetime environmental impact of our products.\n",
            "\n",
            "We are often asked if electric vehicles (EVs) are more sustainable than internal combustion engine (ICE) vehicles. The environmental impact of zero-emission transport and energy products, like the products that Tesla produces and sells, is undeniably more positive than the GHG-emitting alternatives. However, determining the lifetime impact of EVs versus ICE vehicles requires looking at the entire lifecycle - from raw materials to emissions to disposal and not just at the emissions resulting from vehicle usage.\n",
            "\n",
            "This is not a straightforward task and some of the most common omissions that we have seen in similar studies include the following:\n",
            "\n",
            "a) Using Worldwide Harmonized Light Vehicle Test Procedure (WLTP) or Environmental Protection Agency (EPA) fuel/energy consumption data (which overestimate fuel-economy and underestimate emissions), rather than real-world data;\n",
            "\n",
            "b) Not taking into account the higher energy efficiency of Tesla’s powertrains;\n",
            "\n",
            "c) Assuming that the average EV needs a battery replacement at some point in its life;\n",
            "\n",
            "d) Not accounting for emissions generated through oil refining and the transportation process; and\n",
            "\n",
            "e) Using outdated data for the carbon impact of cell manufacturing.\n",
            "\n",
            "We tried to address these considerations and complexities in deriving a more accurate calculation in the following lifecycle analysis.\n",
            "\n",
            "It is important to remember that environmental impact goes beyond just carbon footprint. According to the World Health Organization (WHO), more than four million people die of air pollution every year. The reduction of Nitrogen Oxides (NOx) and other particulates in the air makes our communities healthier places to live, work, and visit and is another core benefit of driving an EV.\n",
            "\n",
            "In addition, solar panels deployed by Tesla (including SolarCity prior to its 2016 acquisition by Tesla) over the years have generated vastly more electricity than what was required to run our factories and related facilities.\n",
            "---\n",
            "# Lifecycle Analysis of Tesla EVs versus Average ICE Vehicles\n",
            "\n",
            "## 69 tons\n",
            "Lifetime CO2 emitted by an average combustion engine vehicle (model year 2019) sold in the U.S. through its use phase, excluding CO2 emitted during the oil refining phase.\n",
            "\n",
            "---\n",
            "\n",
            "On the right and in the following pages we have laid out our lifecycle analysis, which includes the emissions per mile from:\n",
            "\n",
            "- A current Fremont-made Model 3 charged from a grid with the generation mix that reflects the geographic distribution of Model 3 deliveries in the U.S.\n",
            "- What emissions per mile could be if the Model 3 were used for ridesharing over one million miles using cell chemistry from our energy products.\n",
            "- What emissions per mile could be if a Model 3 were principally charged at home using a solar system and energy storage.\n",
            "- What emissions per mile could be if a Model 3 were used for ridesharing over one million miles using cell chemistry from our energy products and if it were only charged using a solar system and energy storage.\n",
            "- The reference ICE vehicle is based on the average mid-size premium sedan in the U.S.\n",
            "\n",
            "---\n",
            "\n",
            "The most important variable in a life cycle analysis is real-world fuel consumption or electricity consumption, which impacts the use phase of the lifecycle. Various efficiency testing cycles such as the New European Driving Cycle (NEDC), WLTP, or EPA don’t truly represent real-world fuel/energy consumption. This is why, for the purpose of this analysis, we used average energy consumption over the more than 4 billion miles Tesla Model 3s have travelled to date, including energy losses during the charging process. For ICE vehicles, we used real-world fuel consumption data provided by Consumer Reports, according to which mid-size premium sedans for model year 2019 on average achieve 23.6 MPG, and this translates to approximately 420 grams of CO2 per mile, once we account for emissions generated through extraction, refining, and shipment of oil.\n",
            "\n",
            "Even if we use the official EPA efficiency rating (instead of real-world data) for a Toyota Prius of 56 MPG, which translates to 177 grams of CO2 per mile (incl. refining & transport of oil), an EV would still emit fewer lifetime emissions than the Prius. Regarding mileage and lifespan, we estimate that an average vehicle in the U.S. is driven slightly less than 12,000 miles per year for about 17 years before it is scrapped. Furthermore, as an ICE vehicle ages, its fuel efficiency only remains stable if serviced properly. On the other hand, electricity generation to charge EVs has become “greener” over time with the addition of cleaner energy sources to the grid. Thus, emissions generated through EV charging should continue to decline over time.\n",
            "\n",
            "It is important to highlight that, for the purpose of this analysis, we assumed no additional renewable energy capacity on the grid during the life of the vehicle given the shape of the renewable energy adoption curve in the U.S. is still very much up for debate. That said, in the following slide we show that a Tesla Model 3 charged in locations with “greener” grids like New York state, for example, have much lower lifecycle emissions than the U.S. average. We believe that cities, states, and countries alike will strive to reduce grid emissions in the future. This dynamic highlights how EVs on the road today will become cleaner as they age and how critical “greening” the grid will be to achieving reduced transportation emissions.\n",
            "\n",
            "---\n",
            "\n",
            "## Average Lifecycle Emissions in U.S. (gCO2e/mi)\n",
            "\n",
            "|                    | Manufacturing Phase | Use Phase |\n",
            "|--------------------|---------------------|-----------|\n",
            "| Model 3 Ridesharing Use (solar charged) |  |  |\n",
            "| Model 3 Personal Use (solar charged) |  |  |\n",
            "| Model 3 Ridesharing Use (grid charged) |  |  |\n",
            "| Model 3 Personal Use (grid charged) |  |  |\n",
            "| Avg. Mid-Size Premium ICE |  |  |\n",
            "\n",
            "![Bar Chart](https://i.imgur.com/8J5J5J5.png)\n",
            "---\n",
            "# Reducing Carbon Footprint Even Further\n",
            "## Increasing Proportion of Renewable Energy Sources\n",
            "\n",
            "Charging a Model 3 using solar panels and a Powerwall adds emissions to the manufacturing phase while reducing use phase emissions as low as zero when 100% of charging is done using that system. The personal use scenario below assumes 18% of charging is done using the public fast-charging network, based on observed fleet behavior.\n",
            "\n",
            "### Average Lifecycle Emissions in U.S. (gCO2e/mi)\n",
            "\n",
            "|                    | Manufacturing Phase | Use Phase |\n",
            "|--------------------|---------------------|-----------|\n",
            "| Avg. Mid-Size Premium ICE |                     |           |\n",
            "| Model 3 Personal Use (grid charged) |                     |           |\n",
            "| Model 3 Ridesharing Use (grid charged) |                     |           |\n",
            "| Model 3 Personal Use (solar charged) |                     |           |\n",
            "| Model 3 Ridesharing Use (solar charged) |                     |           |\n",
            "\n",
            "While the electricity grid varies from region to region, charging EVs is becoming less carbon intensive every year. In the U.S., coal has historically been the dominant energy source for generating electricity. But in the last decade, coal power has declined significantly as regions turn to cleaner energy sources. Energy generated by renewable sources has grown rapidly, accounting for an estimated 43% of new electricity generation capacity in 2018. Many U.S. states (such as New York referenced in the chart below) have been making significant investments in renewable energy as these sustainable options become more cost competitive compared to fossil fuel resources.\n",
            "\n",
            "To put this in perspective, average GHG emissions from charging one New York-based Tesla vehicle equates to the emissions from an ICE vehicle with a fuel economy of 144 MPG (no such vehicle is on the market). Even when charging a Tesla in Michigan, where approximately 64% of energy comes from coal and natural gas, the emissions from our vehicles still equates to the equivalent emissions of an ICE vehicle with 55 real-world MPG (considerably more in terms of EPA rated MPG). As more regions adopt sustainable energy solutions to generate power, emissions related to charging an EV from the grid will decrease even further.\n",
            "\n",
            "EV customers can accelerate the process of increasing their renewable energy mix by installing solar panels or a Solar Roof and an energy storage solution, such as Powerwall, in their homes. Such an effort dramatically reduces the lifetime carbon footprint of an EV, even when accounting for the carbon footprint of both the solar panel/Solar roof and Powerwall manufacturing. Remaining use-phase emissions from solar charged vehicles come from publicly available fast-charging, which too is becoming “greener” every year. Our goal is to strategically pair solar and battery storage at as many Tesla Supercharger stations as is feasible.\n",
            "\n",
            "### Average Lifecycle Emissions in New York State (gCO2e/mi)\n",
            "\n",
            "|                    | Manufacturing Phase | Use Phase |\n",
            "|--------------------|---------------------|-----------|\n",
            "| Model 3 Ridesharing Use (solar charged) |                     |           |\n",
            "| Model 3 Personal Use (solar charged) |                     |           |\n",
            "| Model 3 Ridesharing Use (grid charged) |                     |           |\n",
            "| Model 3 Personal Use (grid charged) |                     |           |\n",
            "| Avg. Mid-Size Premium ICE |                     |           |\n",
            "---\n",
            "# Reducing Carbon Footprint Even Further\n",
            "## Improving Powertrain Efficiency\n",
            "\n",
            "Tesla vehicles are known to have the highest energy efficiency of any EV built to date. In the early days of Model S production, we were able to achieve energy efficiency of 3.1 EPA miles / kWh. Today, our most efficient Model 3 Standard Range Plus (SR+) achieves an EPA range of 4.8 miles / kWh, more than any EV in production. Model Y all-wheel drive (AWD) achieves 4.1 EPA miles / kWh, which makes it the most efficient electric SUV produced to date.\n",
            "\n",
            "The energy efficiency of Tesla vehicles will continue to improve further over time as we continue to improve our technology and powertrain efficiency. It is also reasonable to assume that our high-mileage products, such as our future Tesla Robotaxis, will be designed for maximum energy efficiency as handling, acceleration, and top speed become less relevant. That way, we will minimize cost for our customers as well as reduce the carbon footprint per mile driven.\n",
            "\n",
            "### Average Lifecycle Emissions in U.S. (gCO2e/mi)\n",
            "\n",
            "| Vehicle Type                          | Manufacturing Phase | Use Phase | Total Emissions |\n",
            "|---------------------------------------|---------------------|-----------|-----------------|\n",
            "| Avg. Mid-Size Premium ICE             |                     |           |                 |\n",
            "| Model 3 Personal Use (grid charged)   |                     |           |                 |\n",
            "| Model 3 Ridesharing Use (grid charged)|                     |           |                 |\n",
            "| Model 3 Personal Use (solar charged)  |                     |           |                 |\n",
            "| Model 3 Ridesharing Use (solar charged)|                    |           |                 |\n",
            "\n",
            "*Note: The exact values for the manufacturing and use phases are not provided in the image.*\n",
            "\n",
            "### Energy Efficiency EPA range in miles/kWh\n",
            "\n",
            "| Vehicle Model       | EPA Range (miles/kWh) |\n",
            "|---------------------|-----------------------|\n",
            "| Model 3 SR+         | 5                     |\n",
            "| Model 3 AWD         | 4.5                   |\n",
            "| Model Y AWD         | 4.5                   |\n",
            "| Hyundai Kona        | 4                     |\n",
            "| Chevy Bolt          | 4                     |\n",
            "| Model S LR+         | 4                     |\n",
            "| Nissan Leaf         | 3.5                   |\n",
            "| Model X LR+         | 3.5                   |\n",
            "| Jaguar iPace        | 3                     |\n",
            "| Mercedes EQC*       | 3                     |\n",
            "| Ford Mach E AWD     | 3                     |\n",
            "| Audi e-tron         | 3                     |\n",
            "| Porsche Taycan      | 3                     |\n",
            "\n",
            "*Tesla estimate. Source: OEM websites*\n",
            "---\n",
            "# Reducing Carbon Footprint Even Further\n",
            "## Reducing Emissions at our Factories\n",
            "\n",
            "While emissions from the manufacturing phase can account for a relatively minor portion of lifetime vehicle emissions when compared to the use-phase, it is still an important part of lifecycle emissions. Thus, we strive to source as much renewable energy where possible for our factories in an effort to reduce our manufacturing-phase emissions.\n",
            "\n",
            "As we continue to ramp production of Tesla products, we are committed to making significant progress towards our goal of operating global Tesla manufacturing, vehicle charging, and other operations using 100% renewable energy.\n",
            "\n",
            "Predominantly due to lack of reliable data, various third-party studies tend to overstate the actual energy requirement, and therefore the associated emissions, for battery manufacturing. In fact, in 2019, the emissions from producing a full EV were nearly comparable to than the emissions from producing an average ICE vehicle. That said, battery manufacturing technology continues to improve rapidly, and we expect the EV manufacturing energy requirement and associated emissions to drop significantly in the near future.\n",
            "\n",
            "In the second half of 2018, Tesla launched an Operations Energy Efficiency Program (OEEP) aimed at reducing energy usage across our factories in Fremont, Nevada, and Buffalo. In 2019, the OEEP helped us to achieve energy consumption reductions while we simultaneously ramped new lines and products across the three facilities. Our goal is to install as many solar panels as is practically feasible on the roofs of all of our manufacturing facilities.\n",
            "\n",
            "### Average Lifecycle Emissions in U.S. (gCO2e/mi)\n",
            "\n",
            "| Vehicle Type                          | Manufacturing Phase | Use Phase | Total Emissions |\n",
            "|---------------------------------------|---------------------|-----------|-----------------|\n",
            "| Avg. Mid-Size Premium ICE             |                     |           |                 |\n",
            "| Model 3 Personal Use (grid charged)   |                     |           |                 |\n",
            "| Model 3 Ridesharing Use (grid charged)|                     |           |                 |\n",
            "| Model 3 Personal Use (solar charged)  |                     |           |                 |\n",
            "| Model 3 Ridesharing Use (solar charged)|                    |           |                 |\n",
            "\n",
            "### gCO2e/mi for Model 3 Battery Pack versus Rest of Vehicle\n",
            "\n",
            "| Year | Battery Pack | Rest of Vehicle |\n",
            "|------|--------------|-----------------|\n",
            "| 2017 | 60           |                 |\n",
            "| 2019 | 30           |                 |\n",
            "---\n",
            "# Reducing Carbon Footprint Even Further\n",
            "## Reducing Emissions at our Factories - Gigafactory Shanghai\n",
            "\n",
            "Underpinning our strategy for regional manufacturing is a reduction of carbon emissions that result from shipping parts and finished products. From a sustainability standpoint, having vertically integrated Tesla factories in each region helps to reduce the carbon footprint for our operations.\n",
            "\n",
            "As highlighted in Tesla’s fourth quarter earnings call for 2019, reductions in shipping costs as well as the strain on the environment from avoided trans-oceanic shipping also makes good business sense. A simplified factory design and localized supply chain near the factory saves time and creates efficiencies, and localized delivery saves outbound logistics costs.\n",
            "\n",
            "Our newly opened Gigafactory outside of Shanghai, China has provided us the opportunity to set up and implement the most simplified flows based on what we have learned from the operation of our U.S. factories. The design simplification and operational efficiencies result in time and monetary savings for Gigafactory Shanghai and less carbon emissions per vehicle produced.\n",
            "\n",
            "![Gigafactory Shanghai](https://example.com/gigafactory-shanghai.jpg)\n",
            "\n",
            "### Average Lifecycle Emissions in U.S. (gCO2e/mi)\n",
            "\n",
            "| Vehicle Type                          | Manufacturing Phase | Use Phase | Total Emissions |\n",
            "|---------------------------------------|---------------------|-----------|-----------------|\n",
            "| Avg. Mid-Size Premium ICE             |                     |           |                 |\n",
            "| Model 3 Personal Use (grid charged)   |                     |           |                 |\n",
            "| Model 3 Ridesharing Use (grid charged)|                     |           |                 |\n",
            "| Model 3 Personal Use (solar charged)  |                     |           |                 |\n",
            "| Model 3 Ridesharing Use (solar charged)|                    |           |                 |\n",
            "\n",
            "- **Avg. Mid-Size Premium ICE**: ~450 gCO2e/mi\n",
            "- **Model 3 Personal Use (grid charged)**: ~200 gCO2e/mi\n",
            "- **Model 3 Ridesharing Use (grid charged)**: ~150 gCO2e/mi\n",
            "- **Model 3 Personal Use (solar charged)**: ~100 gCO2e/mi\n",
            "- **Model 3 Ridesharing Use (solar charged)**: ~50 gCO2e/mi\n",
            "\n",
            "**Reducing Factory Emissions**\n",
            "\n",
            "- **Manufacturing Phase**: Blue\n",
            "- **Use Phase**: Light Blue\n",
            "\n",
            "![Bar Chart](https://example.com/bar-chart.jpg)\n",
            "---\n",
            "# Reducing Carbon Footprint Even Further\n",
            "## Increasing Vehicle Utilization\n",
            "\n",
            "Tesla’s battery packs are designed to outlast the car. We estimate that a vehicle gets scrapped after approximately 200,000 miles of usage in the U.S. and roughly 130,000 miles in Europe. Creating a battery that could instead last for a 1,000,000 miles (4,000 to 5,000 charging cycles) would dramatically reduce emissions per vehicle produced.\n",
            "\n",
            "All vehicles in the world combined travel trillions of miles every year. A relatively small number of vehicles, such as taxis, delivery vans, trucks, or buses, account for a disproportionate amount of vehicle miles and as a result, a disproportionate amount of emissions.\n",
            "\n",
            "A single future Tesla vehicle with a million-mile battery could be utilized over five times more than an average vehicle in the U.S. (almost eight times more than an average vehicle sold in Europe). As a portion of the carbon footprint is emitted during the production phase of each vehicle, utilization of such vehicle over 1,000,000 miles dramatically reduces the lifetime carbon footprint per each mile travelled. Furthermore, battery recycling has the potential to further reduce emissions as components of a battery pack can be captured and reused, displacing much of the need for raw material mining and the associated emissions.\n",
            "\n",
            "### Average Lifecycle Emissions in U.S. (gCO2e/mi)\n",
            "\n",
            "| Vehicle Type                          | Manufacturing Phase | Use Phase |\n",
            "|---------------------------------------|---------------------|-----------|\n",
            "| Avg. Mid-Size Premium ICE             |                     |           |\n",
            "| Model 3 Personal Use (grid charged)   |                     |           |\n",
            "| Model 3 Ridesharing Use (grid charged)|                     |           |\n",
            "| Model 3 Personal Use (solar charged)  |                     |           |\n",
            "| Model 3 Ridesharing Use (solar charged)|                    |           |\n",
            "\n",
            "### Tesla Model S/X Battery Capacity Retention per Distance Traveled\n",
            "\n",
            "| Distance Traveled (thousands of miles) | Retention | Standard Deviation |\n",
            "|----------------------------------------|-----------|--------------------|\n",
            "| 0                                      | 100%      |                    |\n",
            "| 25                                     |           |                    |\n",
            "| 50                                     |           |                    |\n",
            "| 75                                     |           |                    |\n",
            "| 100                                    |           |                    |\n",
            "| 125                                    |           |                    |\n",
            "| 150                                    |           |                    |\n",
            "| 175                                    |           |                    |\n",
            "| 200                                    |           |                    |\n",
            "---\n",
            "# Battery Recycling\n",
            "\n",
            "A common question we hear is, “What happens to Tesla vehicle battery packs once they reach their end of life?” An important distinction between fossil fuels and lithium-ion batteries as an energy source is that while fossil fuels are extracted and used once, the materials in a lithium-ion battery are recyclable. When petroleum is pumped out of the ground, chemically refined, and then burned, it releases harmful emissions into the atmosphere that are not recovered for reuse. Battery materials, in contrast, are refined and put into a cell, and will still remain in the cell at the end of their life, when they can be recycled to recover valuable materials for reuse over and over again.\n",
            "\n",
            "Extending the life of a battery pack is a superior option to recycling for both environmental and business reasons. For those reasons, before decommissioning a consumer battery pack and sending it for recycling, Tesla does everything it can to extend the useful life of each battery pack. Any battery that is no longer meeting a customer’s needs can be serviced by Tesla at one of our service centers around the world.\n",
            "\n",
            "Tesla’s current vehicle batteries are designed to outlast our cars. We estimate an average ICE vehicle in the U.S. is scrapped after 17 years of usage, by which time it will have ~200,000 miles on its odometer. Data from our fleet of over 1 million Tesla vehicles on the road shows that our vehicles that have been driven between 150,000 and 200,000 miles had battery packs that degraded by less than 15% on average.\n",
            "\n",
            "# Battery Materials Lifecycle\n",
            "\n",
            "| Step                        | Description                    |\n",
            "|-----------------------------|--------------------------------|\n",
            "| Raw material mining         |                                |\n",
            "| Battery production          |                                |\n",
            "| Lifetime usage in a vehicle |                                |\n",
            "| Battery recycling           | Extracting raw materials       |\n",
            "---\n",
            "# Battery Recycling at Gigafactory Nevada\n",
            "\n",
            "## Global annual amount of li-ion battery metals sent for recycling by Tesla in 2019\n",
            "\n",
            "- **1,000** Tons of Nickel\n",
            "- **320** Tons of Copper\n",
            "- **110** Tons of Cobalt\n",
            "\n",
            "A closed-loop battery recycling process presents a compelling solution to move energy supply away from the fossil-fuel based practice of take, make and burn, to a more circular model of recycling end-of-life batteries for reuse over and over again.\n",
            "\n",
            "Tesla battery packs are made to last many years and therefore we have only received a limited number of these batteries back from the field. Most batteries that Tesla recycles today are pre-consumer, coming to us through R&D and quality control. None of our scrapped lithium-ion batteries go to landfilling, and 100% are recycled. The small amount of post-consumer batteries that we receive are generated from our fleet of vehicles on the road, predominantly from taxi-like vehicles. Since we have only been producing Model S for approximately eight years, it will likely be some time before we start receiving back vehicle batteries in larger volumes.\n",
            "\n",
            "All materials contained in a battery remain in their original form at end-of-life and the vast majority of these materials are then captured in the recycling process. Presently, only high-value elements are recycled and re-introduced into the supply chain. However, as recycling technology improves, we strive to re-introduce more and more materials back into their original commodity markets. Over half of the materials in a battery cell are metals, which is great for sustainability given they are infinitely recyclable. The remaining materials are plastics, organics, and other difficult to re-use materials. Research is underway by organizations all over the world to improve the ability to recycle these remaining materials.\n",
            "\n",
            "Today, we work with third-party recyclers around the world to process all scrap and end-of-life batteries to recover valuable metals. Our recycling partners work with us to ensure that non-valuable or non-recoverable materials from the batteries are disposed of responsibly.\n",
            "\n",
            "Tesla is currently developing a unique battery recycling system at Gigafactory Nevada that will process both battery manufacturing scrap and end-of-life batteries. Through this system, the recovery of critical minerals will be maximized along with the recovery of all metals used in Tesla battery cells, such as copper, aluminum and steel. Our ultimate goal is to develop a recycling process that has high recovery rates, low costs, and a low environmental impact. From an economic perspective, we expect to recognize significant savings over the long term, as the costs associated with large-scale battery material recovery and recycling will be far lower than purchasing and transporting new materials to put into cells.\n"
          ]
        }
      ],
      "source": [
        "print(documents_gpt4o[0].get_content())"
      ]
    },
    {
      "cell_type": "markdown",
      "id": "d62cbb62-37ea-4370-9411-d979aa3a627e",
      "metadata": {
        "id": "d62cbb62-37ea-4370-9411-d979aa3a627e"
      },
      "source": [
        "## Build RAG pipeline over the Parsed Report\n",
        "\n",
        "We now try building a RAG pipeline over this parsed report. It's not a lot of text, but we split it into chunks and load it into a simple in-memory vector store.\n",
        "\n",
        "We ask a question over the parsed markdown table and get back the right answer! We also ask a question over the text."
      ]
    },
    {
      "cell_type": "code",
      "execution_count": null,
      "id": "bb991e26-f9e5-404f-9d2c-73dbba12554b",
      "metadata": {
        "id": "bb991e26-f9e5-404f-9d2c-73dbba12554b"
      },
      "outputs": [],
      "source": [
        "from copy import deepcopy\n",
        "from llama_index.core.schema import TextNode\n",
        "from llama_index.core import VectorStoreIndex\n",
        "\n",
        "\n",
        "def get_nodes(docs):\n",
        "    \"\"\"Split docs into nodes, by separator.\"\"\"\n",
        "    nodes = []\n",
        "    for doc in docs:\n",
        "        doc_chunks = doc.text.split(\"\\n---\\n\")\n",
        "        for doc_chunk in doc_chunks:\n",
        "            node = TextNode(\n",
        "                text=doc_chunk,\n",
        "                metadata=deepcopy(doc.metadata),\n",
        "            )\n",
        "            nodes.append(node)\n",
        "\n",
        "    return nodes"
      ]
    },
    {
      "cell_type": "code",
      "execution_count": null,
      "id": "de1b3606-259a-44cf-9892-3c31d6516c2b",
      "metadata": {
        "id": "de1b3606-259a-44cf-9892-3c31d6516c2b"
      },
      "outputs": [],
      "source": [
        "# this will split into pages\n",
        "nodes = get_nodes(documents_gpt4o)"
      ]
    },
    {
      "cell_type": "code",
      "execution_count": null,
      "id": "d8b7c3ad-2147-448c-bcbe-3e6fcd8d5361",
      "metadata": {
        "id": "d8b7c3ad-2147-448c-bcbe-3e6fcd8d5361"
      },
      "outputs": [],
      "source": [
        "vector_index = VectorStoreIndex(nodes)"
      ]
    },
    {
      "cell_type": "code",
      "execution_count": null,
      "id": "8013351a-180d-4947-9f81-513042175c19",
      "metadata": {
        "id": "8013351a-180d-4947-9f81-513042175c19"
      },
      "outputs": [],
      "source": [
        "query_engine = vector_index.as_query_engine(similarity_top_k=6)"
      ]
    },
    {
      "cell_type": "code",
      "execution_count": null,
      "id": "795dc5c4-e122-4ff3-94d2-747fa51d5add",
      "metadata": {
        "id": "795dc5c4-e122-4ff3-94d2-747fa51d5add"
      },
      "outputs": [],
      "source": [
        "response = query_engine.query(\n",
        "    \"What are the greenhouse emissions for agriculture and transportation?\"\n",
        ")"
      ]
    },
    {
      "cell_type": "code",
      "execution_count": null,
      "id": "39d2e6bd-3316-49b5-9a5d-5b4b95343e5a",
      "metadata": {
        "id": "39d2e6bd-3316-49b5-9a5d-5b4b95343e5a",
        "outputId": "32e3b47b-1cb3-4fe2-86ca-49782ac1d8fc"
      },
      "outputs": [
        {
          "name": "stdout",
          "output_type": "stream",
          "text": [
            "The greenhouse emissions for agriculture and transportation are 20% and 16% respectively.\n"
          ]
        }
      ],
      "source": [
        "print(str(response))"
      ]
    },
    {
      "cell_type": "markdown",
      "id": "9beb5cd4-4041-48c7-b22b-de5540f92a6d",
      "metadata": {
        "id": "9beb5cd4-4041-48c7-b22b-de5540f92a6d"
      },
      "source": [
        "Let's also try asking a question over another piece of the text."
      ]
    },
    {
      "cell_type": "code",
      "execution_count": null,
      "id": "543c8b63-5cd1-47a1-a8a1-81abbfd3e52b",
      "metadata": {
        "id": "543c8b63-5cd1-47a1-a8a1-81abbfd3e52b"
      },
      "outputs": [],
      "source": [
        "response = query_engine.query(\n",
        "    \"How does the EPA range of Teslas compare with other vehicles? Give details\"\n",
        ")"
      ]
    },
    {
      "cell_type": "code",
      "execution_count": null,
      "id": "e739eabf-732b-4f59-9628-972c4bf6c857",
      "metadata": {
        "id": "e739eabf-732b-4f59-9628-972c4bf6c857",
        "outputId": "3480880d-e36b-44a5-ae93-facd946be6c4"
      },
      "outputs": [
        {
          "name": "stdout",
          "output_type": "stream",
          "text": [
            "The EPA range of Tesla vehicles, such as the Model 3 Standard Range Plus achieving 4.8 miles/kWh and the Model Y all-wheel drive achieving 4.1 miles/kWh, surpasses that of other electric vehicles currently in production. For example, the Hyundai Kona, Chevy Bolt, Model S LR+, and Nissan Leaf have EPA ranges ranging from 3.5 to 4 miles/kWh, while the Jaguar iPace, Mercedes EQC, Ford Mach E AWD, Audi e-tron, and Porsche Taycan have EPA ranges of 3 miles/kWh. This indicates that Tesla vehicles generally have higher energy efficiency and longer EPA ranges compared to other electric vehicles available in the market.\n"
          ]
        }
      ],
      "source": [
        "print(str(response))"
      ]
    },
    {
      "cell_type": "code",
      "execution_count": null,
      "id": "04b05c53-1a81-41a7-97f2-98a960211957",
      "metadata": {
        "id": "04b05c53-1a81-41a7-97f2-98a960211957",
        "outputId": "940e665e-12c9-4dc0-fbbf-913892ae899d"
      },
      "outputs": [
        {
          "name": "stdout",
          "output_type": "stream",
          "text": [
            "# Reducing Carbon Footprint Even Further\n",
            "## Improving Powertrain Efficiency\n",
            "\n",
            "Tesla vehicles are known to have the highest energy efficiency of any EV built to date. In the early days of Model S production, we were able to achieve energy efficiency of 3.1 EPA miles / kWh. Today, our most efficient Model 3 Standard Range Plus (SR+) achieves an EPA range of 4.8 miles / kWh, more than any EV in production. Model Y all-wheel drive (AWD) achieves 4.1 EPA miles / kWh, which makes it the most efficient electric SUV produced to date.\n",
            "\n",
            "The energy efficiency of Tesla vehicles will continue to improve further over time as we continue to improve our technology and powertrain efficiency. It is also reasonable to assume that our high-mileage products, such as our future Tesla Robotaxis, will be designed for maximum energy efficiency as handling, acceleration, and top speed become less relevant. That way, we will minimize cost for our customers as well as reduce the carbon footprint per mile driven.\n",
            "\n",
            "### Average Lifecycle Emissions in U.S. (gCO2e/mi)\n",
            "\n",
            "| Vehicle Type                          | Manufacturing Phase | Use Phase | Total Emissions |\n",
            "|---------------------------------------|---------------------|-----------|-----------------|\n",
            "| Avg. Mid-Size Premium ICE             |                     |           |                 |\n",
            "| Model 3 Personal Use (grid charged)   |                     |           |                 |\n",
            "| Model 3 Ridesharing Use (grid charged)|                     |           |                 |\n",
            "| Model 3 Personal Use (solar charged)  |                     |           |                 |\n",
            "| Model 3 Ridesharing Use (solar charged)|                    |           |                 |\n",
            "\n",
            "*Note: The exact values for the manufacturing and use phases are not provided in the image.*\n",
            "\n",
            "### Energy Efficiency EPA range in miles/kWh\n",
            "\n",
            "| Vehicle Model       | EPA Range (miles/kWh) |\n",
            "|---------------------|-----------------------|\n",
            "| Model 3 SR+         | 5                     |\n",
            "| Model 3 AWD         | 4.5                   |\n",
            "| Model Y AWD         | 4.5                   |\n",
            "| Hyundai Kona        | 4                     |\n",
            "| Chevy Bolt          | 4                     |\n",
            "| Model S LR+         | 4                     |\n",
            "| Nissan Leaf         | 3.5                   |\n",
            "| Model X LR+         | 3.5                   |\n",
            "| Jaguar iPace        | 3                     |\n",
            "| Mercedes EQC*       | 3                     |\n",
            "| Ford Mach E AWD     | 3                     |\n",
            "| Audi e-tron         | 3                     |\n",
            "| Porsche Taycan      | 3                     |\n",
            "\n",
            "*Tesla estimate. Source: OEM websites*\n"
          ]
        }
      ],
      "source": [
        "print(response.source_nodes[0].get_content())"
      ]
    }
  ],
  "metadata": {
    "kernelspec": {
      "display_name": "llama_parse",
      "language": "python",
      "name": "llama_parse"
    },
    "language_info": {
      "codemirror_mode": {
        "name": "ipython",
        "version": 3
      },
      "file_extension": ".py",
      "mimetype": "text/x-python",
      "name": "python",
      "nbconvert_exporter": "python",
      "pygments_lexer": "ipython3"
    },
    "colab": {
      "provenance": []
    }
  },
  "nbformat": 4,
  "nbformat_minor": 5
}